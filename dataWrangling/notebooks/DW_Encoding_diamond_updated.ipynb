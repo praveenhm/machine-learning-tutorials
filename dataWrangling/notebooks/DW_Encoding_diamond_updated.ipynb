{
 "cells": [
  {
   "cell_type": "markdown",
   "metadata": {
    "colab_type": "text",
    "id": "view-in-github"
   },
   "source": [
    "<a href=\"https://colab.research.google.com/github/supportvectors/Data-Wrangling/blob/main/Encoding.ipynb\" target=\"_parent\"><img src=\"https://colab.research.google.com/assets/colab-badge.svg\" alt=\"Open In Colab\"/></a>"
   ]
  },
  {
   "cell_type": "code",
   "execution_count": 1,
   "metadata": {
    "ExecuteTime": {
     "end_time": "2022-04-15T03:15:11.240366Z",
     "start_time": "2022-04-15T03:15:08.998529Z"
    }
   },
   "outputs": [],
   "source": [
    "%run common.ipynb"
   ]
  },
  {
   "cell_type": "markdown",
   "metadata": {
    "id": "4nLsNuSop7Y5"
   },
   "source": [
    "\n",
    "# Why Encode Categorical Variables?\n",
    "\n",
    "Most machine learning algorithms cannot handle categorical variables unless we convert them to numerical values.  The performance of many algorithms vary depending on how the categorical variables are encoded.\n",
    "\n",
    "Text or generally any non-numeric data is stored as object datatype. So if a dataframe column type is object that indicates a column has text. It's most common to one-hot encode these object type columns, since the non-numerica values can't be plugged directly into most machine learning models. \n",
    "\n",
    "Categorical variables can be divided into two categories: \n",
    "1. <b>Nominal</b> (No particular order) \n",
    "2. <b>Ordinal</b> (some ordered).\n",
    "\n",
    "<u><b>Examples of variables with nominal values</b></u>\n",
    "\n",
    "    Color: Red, Yellow, Pink, Blue\n",
    "\n",
    "    Country: Singapore, Japan, USA, India, Korea\n",
    "\n",
    "<u><b>Examples of variables with ordinal values</b></u>\n",
    "\n",
    "    Strength: High, Medium, Low\n",
    "\n",
    "    Poll question: “Strongly agree,” Agree, Neutral, Disagree, and “Strongly Disagree.”\n"
   ]
  },
  {
   "cell_type": "markdown",
   "metadata": {
    "id": "J1gY-WEUNlX5"
   },
   "source": [
    "## One Hot Encoding\n",
    "\n",
    "To implement One hot encoding, we creates new columns with dummy variables. Each dummy variable has binary values, to indicate the presence of each possible value from the original data. The number of new dummy variables are equal to the number of categories (k) in the variable. \n",
    "\n",
    "For example, let’s say we have a categorical variable <b>Color</b> with three categories called “Red”, “Blue” and “Green”, then we need to use three dummy variables to encode this variable using one-hot encoding. A dummy (binary) variable just takes the value 0 or 1 to indicate the exclusion or inclusion of a category.  \n",
    "\n",
    "<b>NOTE:</b> For each row only ONE of the dummy variables values will have a \"1\" value indicating the inclusion of a category. That is where the \"One Hot\" naming originates. It is called one-hot because only one bit is “hot” or TRUE at any time. \n",
    "\n"
   ]
  },
  {
   "cell_type": "markdown",
   "metadata": {
    "id": "DP7cErc9IR4g"
   },
   "source": [
    "![one-hot.png](data:image/png;base64,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)"
   ]
  },
  {
   "cell_type": "markdown",
   "metadata": {
    "id": "wRPuWyTO9MIK"
   },
   "source": [
    "For the example above, we can see for the one-hot encoding that:\n",
    "\n",
    "    “Red” color is encoded as [1 0 0] vector of size 3.\n",
    "    “Green” color is encoded as [0 1 0] vector of size 3.\n",
    "    “Blue” color is encoded as [0 0 1] vector of size 3."
   ]
  },
  {
   "cell_type": "markdown",
   "metadata": {
    "id": "6DAhFlZSCEEU"
   },
   "source": [
    "## Dummy Encoding\n",
    "\n",
    "Dummy coding scheme is similar to one-hot encoding. This categorical data encoding method transforms the categorical variable into a set of binary variables (also known as dummy variables). For one-hot encoding, N binary variables are required to encode N categories in a variable. Dummy encoding improvemes slightly over one-hot-encoding as dummy encoding uses N-1 features to represent N labels/categories.\n",
    "\n",
    "To understand this better let’s see the image below. Here we are coding the same data using both one-hot encoding and dummy encoding techniques. Observe that to code three categories, one-hot encoding method uses three variables to represent the data, whereas dummy encoding uses two variables.\n",
    "\n"
   ]
  },
  {
   "cell_type": "markdown",
   "metadata": {
    "id": "Xj3_-w3JIR3e"
   },
   "source": [
    "![dummyencoding.png](data:image/png;base64,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)"
   ]
  },
  {
   "cell_type": "markdown",
   "metadata": {
    "id": "-f6Ias4D9VZx"
   },
   "source": [
    "In the above \"Color\" example of dummy encoding:\n",
    "\n",
    "    “Red” color is encoded as [1 0] vector of size 2.\n",
    "    “Green” color is encoded as [0 1] vector of size 2.\n",
    "    “Blue” color is encoded as [0 0] vector of size 2.\n",
    "\n",
    "Dummy encoding removes a duplicate category present in the one-hot encoding. <b>The color \"Blue\" is essentially represented as \"not Red\" and \"not Green\".</b>"
   ]
  },
  {
   "cell_type": "markdown",
   "metadata": {},
   "source": [
    "# Using Encoding on the Diamond Dataset\n",
    "\n",
    "Now we will apply the encoding techniques on a real dataset. The Diamond dataset is a classic dataset which contains the prices and other attributes of almost 54,000 diamonds. It's a great dataset for beginners learning to work with data analysis and visualization. You can analyze diamonds by their cut, color, clarity, price, and other attributes.\n",
    "\n",
    "Link for reference: https://www.kaggle.com/datasets/shivam2503/diamonds\n",
    "\n",
    "The dataset is now read into a pandas dataframe below:\n"
   ]
  },
  {
   "cell_type": "code",
   "execution_count": 2,
   "metadata": {
    "ExecuteTime": {
     "end_time": "2022-04-15T03:15:12.066733Z",
     "start_time": "2022-04-15T03:15:11.242547Z"
    },
    "id": "s1wh72jjFUlq"
   },
   "outputs": [],
   "source": [
    "# load a dataset\n",
    "import pandas as pd\n",
    "\n",
    "# paths to the most commonly used dataset repositories for this lab\n",
    "\n",
    "# path to pandas_for_everyone datasets repository\n",
    "pfe_rep_path = 'https://raw.githubusercontent.com/chendaniely/pandas_for_everyone/master/data/'\n",
    "\n",
    "# path to data-wrangling-datasets repository\n",
    "sv_rep_path = '../data/'\n",
    "\n",
    "source = sv_rep_path + \"diamonds.csv\"\n",
    "\n",
    "data = pd.read_csv(source)\n"
   ]
  },
  {
   "cell_type": "markdown",
   "metadata": {},
   "source": [
    "<b> Let's peek at the first five rows of data of the diamond dataset using the .head() method: </b>"
   ]
  },
  {
   "cell_type": "code",
   "execution_count": 3,
   "metadata": {
    "ExecuteTime": {
     "end_time": "2022-04-15T03:15:12.091025Z",
     "start_time": "2022-04-15T03:15:12.068712Z"
    },
    "colab": {
     "base_uri": "https://localhost:8080/",
     "height": 206
    },
    "id": "Wwt9Pi7oHpTi",
    "outputId": "4a112b04-6053-4562-ca8a-c87d6516b6c5"
   },
   "outputs": [
    {
     "data": {
      "text/html": [
       "<div>\n",
       "<style scoped>\n",
       "    .dataframe tbody tr th:only-of-type {\n",
       "        vertical-align: middle;\n",
       "    }\n",
       "\n",
       "    .dataframe tbody tr th {\n",
       "        vertical-align: top;\n",
       "    }\n",
       "\n",
       "    .dataframe thead th {\n",
       "        text-align: right;\n",
       "    }\n",
       "</style>\n",
       "<table border=\"1\" class=\"dataframe\">\n",
       "  <thead>\n",
       "    <tr style=\"text-align: right;\">\n",
       "      <th></th>\n",
       "      <th>Unnamed: 0</th>\n",
       "      <th>carat</th>\n",
       "      <th>cut</th>\n",
       "      <th>color</th>\n",
       "      <th>clarity</th>\n",
       "      <th>depth</th>\n",
       "      <th>table</th>\n",
       "      <th>price</th>\n",
       "      <th>x</th>\n",
       "      <th>y</th>\n",
       "      <th>z</th>\n",
       "    </tr>\n",
       "  </thead>\n",
       "  <tbody>\n",
       "    <tr>\n",
       "      <th>0</th>\n",
       "      <td>1</td>\n",
       "      <td>0.23</td>\n",
       "      <td>Ideal</td>\n",
       "      <td>E</td>\n",
       "      <td>SI2</td>\n",
       "      <td>61.5</td>\n",
       "      <td>55.0</td>\n",
       "      <td>326</td>\n",
       "      <td>3.95</td>\n",
       "      <td>3.98</td>\n",
       "      <td>2.43</td>\n",
       "    </tr>\n",
       "    <tr>\n",
       "      <th>1</th>\n",
       "      <td>2</td>\n",
       "      <td>0.21</td>\n",
       "      <td>Premium</td>\n",
       "      <td>E</td>\n",
       "      <td>SI1</td>\n",
       "      <td>59.8</td>\n",
       "      <td>61.0</td>\n",
       "      <td>326</td>\n",
       "      <td>3.89</td>\n",
       "      <td>3.84</td>\n",
       "      <td>2.31</td>\n",
       "    </tr>\n",
       "    <tr>\n",
       "      <th>2</th>\n",
       "      <td>3</td>\n",
       "      <td>0.23</td>\n",
       "      <td>Good</td>\n",
       "      <td>E</td>\n",
       "      <td>VS1</td>\n",
       "      <td>56.9</td>\n",
       "      <td>65.0</td>\n",
       "      <td>327</td>\n",
       "      <td>4.05</td>\n",
       "      <td>4.07</td>\n",
       "      <td>2.31</td>\n",
       "    </tr>\n",
       "    <tr>\n",
       "      <th>3</th>\n",
       "      <td>4</td>\n",
       "      <td>0.29</td>\n",
       "      <td>Premium</td>\n",
       "      <td>I</td>\n",
       "      <td>VS2</td>\n",
       "      <td>62.4</td>\n",
       "      <td>58.0</td>\n",
       "      <td>334</td>\n",
       "      <td>4.20</td>\n",
       "      <td>4.23</td>\n",
       "      <td>2.63</td>\n",
       "    </tr>\n",
       "    <tr>\n",
       "      <th>4</th>\n",
       "      <td>5</td>\n",
       "      <td>0.31</td>\n",
       "      <td>Good</td>\n",
       "      <td>J</td>\n",
       "      <td>SI2</td>\n",
       "      <td>63.3</td>\n",
       "      <td>58.0</td>\n",
       "      <td>335</td>\n",
       "      <td>4.34</td>\n",
       "      <td>4.35</td>\n",
       "      <td>2.75</td>\n",
       "    </tr>\n",
       "  </tbody>\n",
       "</table>\n",
       "</div>"
      ],
      "text/plain": [
       "   Unnamed: 0  carat      cut color clarity  depth  table  price     x     y  \\\n",
       "0           1   0.23    Ideal     E     SI2   61.5   55.0    326  3.95  3.98   \n",
       "1           2   0.21  Premium     E     SI1   59.8   61.0    326  3.89  3.84   \n",
       "2           3   0.23     Good     E     VS1   56.9   65.0    327  4.05  4.07   \n",
       "3           4   0.29  Premium     I     VS2   62.4   58.0    334  4.20  4.23   \n",
       "4           5   0.31     Good     J     SI2   63.3   58.0    335  4.34  4.35   \n",
       "\n",
       "      z  \n",
       "0  2.43  \n",
       "1  2.31  \n",
       "2  2.31  \n",
       "3  2.63  \n",
       "4  2.75  "
      ]
     },
     "execution_count": 3,
     "metadata": {},
     "output_type": "execute_result"
    }
   ],
   "source": [
    "data.head()"
   ]
  },
  {
   "cell_type": "markdown",
   "metadata": {},
   "source": [
    "<b> The \"Unnamed\" column is redundant index column, let's drop that column.</b>"
   ]
  },
  {
   "cell_type": "code",
   "execution_count": 4,
   "metadata": {
    "ExecuteTime": {
     "end_time": "2022-04-15T03:15:12.116272Z",
     "start_time": "2022-04-15T03:15:12.092865Z"
    },
    "colab": {
     "base_uri": "https://localhost:8080/",
     "height": 206
    },
    "id": "AJUVenElHskr",
    "outputId": "5449c175-79d7-45b6-c776-103e4c20f5f4"
   },
   "outputs": [
    {
     "data": {
      "text/html": [
       "<div>\n",
       "<style scoped>\n",
       "    .dataframe tbody tr th:only-of-type {\n",
       "        vertical-align: middle;\n",
       "    }\n",
       "\n",
       "    .dataframe tbody tr th {\n",
       "        vertical-align: top;\n",
       "    }\n",
       "\n",
       "    .dataframe thead th {\n",
       "        text-align: right;\n",
       "    }\n",
       "</style>\n",
       "<table border=\"1\" class=\"dataframe\">\n",
       "  <thead>\n",
       "    <tr style=\"text-align: right;\">\n",
       "      <th></th>\n",
       "      <th>carat</th>\n",
       "      <th>cut</th>\n",
       "      <th>color</th>\n",
       "      <th>clarity</th>\n",
       "      <th>depth</th>\n",
       "      <th>table</th>\n",
       "      <th>price</th>\n",
       "      <th>x</th>\n",
       "      <th>y</th>\n",
       "      <th>z</th>\n",
       "    </tr>\n",
       "  </thead>\n",
       "  <tbody>\n",
       "    <tr>\n",
       "      <th>0</th>\n",
       "      <td>0.23</td>\n",
       "      <td>Ideal</td>\n",
       "      <td>E</td>\n",
       "      <td>SI2</td>\n",
       "      <td>61.5</td>\n",
       "      <td>55.0</td>\n",
       "      <td>326</td>\n",
       "      <td>3.95</td>\n",
       "      <td>3.98</td>\n",
       "      <td>2.43</td>\n",
       "    </tr>\n",
       "    <tr>\n",
       "      <th>1</th>\n",
       "      <td>0.21</td>\n",
       "      <td>Premium</td>\n",
       "      <td>E</td>\n",
       "      <td>SI1</td>\n",
       "      <td>59.8</td>\n",
       "      <td>61.0</td>\n",
       "      <td>326</td>\n",
       "      <td>3.89</td>\n",
       "      <td>3.84</td>\n",
       "      <td>2.31</td>\n",
       "    </tr>\n",
       "    <tr>\n",
       "      <th>2</th>\n",
       "      <td>0.23</td>\n",
       "      <td>Good</td>\n",
       "      <td>E</td>\n",
       "      <td>VS1</td>\n",
       "      <td>56.9</td>\n",
       "      <td>65.0</td>\n",
       "      <td>327</td>\n",
       "      <td>4.05</td>\n",
       "      <td>4.07</td>\n",
       "      <td>2.31</td>\n",
       "    </tr>\n",
       "    <tr>\n",
       "      <th>3</th>\n",
       "      <td>0.29</td>\n",
       "      <td>Premium</td>\n",
       "      <td>I</td>\n",
       "      <td>VS2</td>\n",
       "      <td>62.4</td>\n",
       "      <td>58.0</td>\n",
       "      <td>334</td>\n",
       "      <td>4.20</td>\n",
       "      <td>4.23</td>\n",
       "      <td>2.63</td>\n",
       "    </tr>\n",
       "    <tr>\n",
       "      <th>4</th>\n",
       "      <td>0.31</td>\n",
       "      <td>Good</td>\n",
       "      <td>J</td>\n",
       "      <td>SI2</td>\n",
       "      <td>63.3</td>\n",
       "      <td>58.0</td>\n",
       "      <td>335</td>\n",
       "      <td>4.34</td>\n",
       "      <td>4.35</td>\n",
       "      <td>2.75</td>\n",
       "    </tr>\n",
       "  </tbody>\n",
       "</table>\n",
       "</div>"
      ],
      "text/plain": [
       "   carat      cut color clarity  depth  table  price     x     y     z\n",
       "0   0.23    Ideal     E     SI2   61.5   55.0    326  3.95  3.98  2.43\n",
       "1   0.21  Premium     E     SI1   59.8   61.0    326  3.89  3.84  2.31\n",
       "2   0.23     Good     E     VS1   56.9   65.0    327  4.05  4.07  2.31\n",
       "3   0.29  Premium     I     VS2   62.4   58.0    334  4.20  4.23  2.63\n",
       "4   0.31     Good     J     SI2   63.3   58.0    335  4.34  4.35  2.75"
      ]
     },
     "execution_count": 4,
     "metadata": {},
     "output_type": "execute_result"
    }
   ],
   "source": [
    "## dropping passed columns\n",
    "data.drop([\"Unnamed: 0\"], axis = 1, inplace = True)\n",
    "  \n",
    "# display\n",
    "data.head()"
   ]
  },
  {
   "cell_type": "markdown",
   "metadata": {},
   "source": [
    "<b> Let's find the categorical features by looking for object datatypes (value of 'O'). </b>"
   ]
  },
  {
   "cell_type": "code",
   "execution_count": 5,
   "metadata": {
    "ExecuteTime": {
     "end_time": "2022-04-15T03:15:12.136758Z",
     "start_time": "2022-04-15T03:15:12.117874Z"
    },
    "colab": {
     "base_uri": "https://localhost:8080/",
     "height": 363
    },
    "id": "iaIYFrgtNRvt",
    "outputId": "0d7952bd-8449-4d18-fd50-6f01d85ac682"
   },
   "outputs": [
    {
     "data": {
      "text/html": [
       "<div>\n",
       "<style scoped>\n",
       "    .dataframe tbody tr th:only-of-type {\n",
       "        vertical-align: middle;\n",
       "    }\n",
       "\n",
       "    .dataframe tbody tr th {\n",
       "        vertical-align: top;\n",
       "    }\n",
       "\n",
       "    .dataframe thead th {\n",
       "        text-align: right;\n",
       "    }\n",
       "</style>\n",
       "<table border=\"1\" class=\"dataframe\">\n",
       "  <thead>\n",
       "    <tr style=\"text-align: right;\">\n",
       "      <th></th>\n",
       "      <th>cut</th>\n",
       "      <th>color</th>\n",
       "      <th>clarity</th>\n",
       "    </tr>\n",
       "  </thead>\n",
       "  <tbody>\n",
       "    <tr>\n",
       "      <th>0</th>\n",
       "      <td>Ideal</td>\n",
       "      <td>E</td>\n",
       "      <td>SI2</td>\n",
       "    </tr>\n",
       "    <tr>\n",
       "      <th>1</th>\n",
       "      <td>Premium</td>\n",
       "      <td>E</td>\n",
       "      <td>SI1</td>\n",
       "    </tr>\n",
       "    <tr>\n",
       "      <th>2</th>\n",
       "      <td>Good</td>\n",
       "      <td>E</td>\n",
       "      <td>VS1</td>\n",
       "    </tr>\n",
       "    <tr>\n",
       "      <th>3</th>\n",
       "      <td>Premium</td>\n",
       "      <td>I</td>\n",
       "      <td>VS2</td>\n",
       "    </tr>\n",
       "    <tr>\n",
       "      <th>4</th>\n",
       "      <td>Good</td>\n",
       "      <td>J</td>\n",
       "      <td>SI2</td>\n",
       "    </tr>\n",
       "    <tr>\n",
       "      <th>5</th>\n",
       "      <td>Very Good</td>\n",
       "      <td>J</td>\n",
       "      <td>VVS2</td>\n",
       "    </tr>\n",
       "    <tr>\n",
       "      <th>6</th>\n",
       "      <td>Very Good</td>\n",
       "      <td>I</td>\n",
       "      <td>VVS1</td>\n",
       "    </tr>\n",
       "    <tr>\n",
       "      <th>7</th>\n",
       "      <td>Very Good</td>\n",
       "      <td>H</td>\n",
       "      <td>SI1</td>\n",
       "    </tr>\n",
       "    <tr>\n",
       "      <th>8</th>\n",
       "      <td>Fair</td>\n",
       "      <td>E</td>\n",
       "      <td>VS2</td>\n",
       "    </tr>\n",
       "    <tr>\n",
       "      <th>9</th>\n",
       "      <td>Very Good</td>\n",
       "      <td>H</td>\n",
       "      <td>VS1</td>\n",
       "    </tr>\n",
       "  </tbody>\n",
       "</table>\n",
       "</div>"
      ],
      "text/plain": [
       "         cut color clarity\n",
       "0      Ideal     E     SI2\n",
       "1    Premium     E     SI1\n",
       "2       Good     E     VS1\n",
       "3    Premium     I     VS2\n",
       "4       Good     J     SI2\n",
       "5  Very Good     J    VVS2\n",
       "6  Very Good     I    VVS1\n",
       "7  Very Good     H     SI1\n",
       "8       Fair     E     VS2\n",
       "9  Very Good     H     VS1"
      ]
     },
     "execution_count": 5,
     "metadata": {},
     "output_type": "execute_result"
    }
   ],
   "source": [
    "# Checking for categorical features\n",
    "\n",
    "categorical_features=[feature for feature in data.columns if data[feature].dtypes=='O']\n",
    "data[categorical_features].head(10)\n"
   ]
  },
  {
   "cell_type": "markdown",
   "metadata": {},
   "source": [
    "<b> The result is that there are three categorical variables: cut, color, and clarity. </b>\n",
    "\n",
    "From the Kaggle description of the diamond dataset:\n",
    "\n",
    "    cut: quality of the cut (Fair, Good, Very Good, Premium, Ideal)\n",
    "    color: diamond colour, from J (worst) to D (best)\n",
    "    clarity: a measurement of how clear the diamond is (I1 (worst), SI2, SI1, VS2, VS1, VVS2, VVS1, IF (best))"
   ]
  },
  {
   "cell_type": "markdown",
   "metadata": {
    "id": "dBdLAVkx96da"
   },
   "source": [
    "## Applying Pandas One Hot and Dummy Encoding to the Diamond Dataset\n",
    "\n",
    "We will use the pandas methods to implement One Hot Encoding.\n",
    "\n",
    "The pandas method <b> get_dummies()</b> is used to implement both one hot and dummy encoding.\n",
    "\n",
    "<b> Syntax: </b> pd.get_dummies(data, prefix, dummy_na, columns, drop_first)\n",
    "\n",
    "* data — Here we specify the data that we need to encode. It can be a NumPy array, Pandas Series or a DataFrame.\n",
    "\n",
    "* prefix — If we specify a prefix, it will add to the column names so that we can easily identify the columns. The prefix can be specified as a string for a single column name. For multiple column names, it is defined as a dictionary mapping column names to prefixes.\n",
    "\n",
    "* dummy_na — If False (default), missing values (NaNs) are ignored when encoding the variables. If True, this will return missing data in a separate category.\n",
    "\n",
    "* columns — This specifies the column names to be encoded. If None (default), all categorical columns in the data parameter will be encoded. If you specify column names as a list, only the specified columns will be encoded.\n",
    "\n",
    "* drop_first — This is the most important parameter. This takes a boolean value, True or False. \n",
    "    * If False (default), this will perform one-hot encoding. \n",
    "    * If True, this will drop the first category of each categorical variable, create k-1 dummy variables for each categorical variable and perform dummy encoding."
   ]
  },
  {
   "cell_type": "code",
   "execution_count": 6,
   "metadata": {
    "ExecuteTime": {
     "end_time": "2022-04-15T03:15:12.164890Z",
     "start_time": "2022-04-15T03:15:12.139054Z"
    },
    "colab": {
     "base_uri": "https://localhost:8080/"
    },
    "id": "_dfZNz38HmlC",
    "outputId": "c751d309-ff48-4197-c818-2d9e52b0a5f4"
   },
   "outputs": [
    {
     "data": {
      "text/plain": [
       "0"
      ]
     },
     "execution_count": 6,
     "metadata": {},
     "output_type": "execute_result"
    }
   ],
   "source": [
    "# Checking for missing values\n",
    "\n",
    "data.isnull().sum().sum()"
   ]
  },
  {
   "cell_type": "markdown",
   "metadata": {},
   "source": [
    "We see that there are no missing data values, so we do not have to do any missing value treatments.\n"
   ]
  },
  {
   "cell_type": "code",
   "execution_count": 7,
   "metadata": {
    "ExecuteTime": {
     "end_time": "2022-04-15T03:15:12.209114Z",
     "start_time": "2022-04-15T03:15:12.172646Z"
    },
    "colab": {
     "base_uri": "https://localhost:8080/"
    },
    "id": "NtNVo3MlIRDq",
    "outputId": "de5dd11c-a69b-4f4a-9364-ae5a88c72e08"
   },
   "outputs": [
    {
     "name": "stdout",
     "output_type": "stream",
     "text": [
      "<class 'pandas.core.frame.DataFrame'>\n",
      "RangeIndex: 53940 entries, 0 to 53939\n",
      "Data columns (total 10 columns):\n",
      " #   Column   Non-Null Count  Dtype  \n",
      "---  ------   --------------  -----  \n",
      " 0   carat    53940 non-null  float64\n",
      " 1   cut      53940 non-null  object \n",
      " 2   color    53940 non-null  object \n",
      " 3   clarity  53940 non-null  object \n",
      " 4   depth    53940 non-null  float64\n",
      " 5   table    53940 non-null  float64\n",
      " 6   price    53940 non-null  int64  \n",
      " 7   x        53940 non-null  float64\n",
      " 8   y        53940 non-null  float64\n",
      " 9   z        53940 non-null  float64\n",
      "dtypes: float64(6), int64(1), object(3)\n",
      "memory usage: 4.1+ MB\n"
     ]
    }
   ],
   "source": [
    "data.info()"
   ]
  },
  {
   "cell_type": "markdown",
   "metadata": {
    "id": "aoYc4e9OIgdh"
   },
   "source": [
    "\n",
    "The pandas method <b> .info() </b> also shows the variables which are of the object or category datatype. Again we observe that there are the three categorical variables in the dataset: <b>cut</b>, <b>color</b> and <b>clarity</b>.\n",
    "\n",
    "Although from the dataset description on Kaggle we saw a listing of some of the possible values for the categorical variables, we should confirm the categories. Let's check for the <b>color</b> variable using the pandas <b>.unique()</b> method:\n"
   ]
  },
  {
   "cell_type": "code",
   "execution_count": 8,
   "metadata": {
    "ExecuteTime": {
     "end_time": "2022-04-15T03:15:12.224279Z",
     "start_time": "2022-04-15T03:15:12.212724Z"
    },
    "colab": {
     "base_uri": "https://localhost:8080/"
    },
    "id": "P8OF7sRWIgOR",
    "outputId": "8fbd7292-72ee-44d1-fdf8-a52358dddb1c"
   },
   "outputs": [
    {
     "data": {
      "text/plain": [
       "array(['E', 'I', 'J', 'H', 'F', 'G', 'D'], dtype=object)"
      ]
     },
     "execution_count": 8,
     "metadata": {},
     "output_type": "execute_result"
    }
   ],
   "source": [
    "data[\"color\"].unique()"
   ]
  },
  {
   "cell_type": "markdown",
   "metadata": {
    "id": "M9753ZN0IulR"
   },
   "source": [
    "There are 7 unique categories for the <b>color</b> variable.\n",
    "\n",
    "To encode this variable, we need to create 7 dummy variables in one-hot encoding and 6 dummy variables in dummy encoding."
   ]
  },
  {
   "cell_type": "markdown",
   "metadata": {
    "id": "ca5phGVtLApy"
   },
   "source": [
    "### Implementing Pandas One Hot Encoding on the \"color\" variable"
   ]
  },
  {
   "cell_type": "code",
   "execution_count": 9,
   "metadata": {
    "ExecuteTime": {
     "end_time": "2022-04-15T03:15:12.243864Z",
     "start_time": "2022-04-15T03:15:12.227717Z"
    },
    "colab": {
     "base_uri": "https://localhost:8080/",
     "height": 206
    },
    "id": "gutjpthTItrZ",
    "outputId": "bde0f161-d21e-4ef9-d956-b9064fd39bd8"
   },
   "outputs": [
    {
     "data": {
      "text/html": [
       "<div>\n",
       "<style scoped>\n",
       "    .dataframe tbody tr th:only-of-type {\n",
       "        vertical-align: middle;\n",
       "    }\n",
       "\n",
       "    .dataframe tbody tr th {\n",
       "        vertical-align: top;\n",
       "    }\n",
       "\n",
       "    .dataframe thead th {\n",
       "        text-align: right;\n",
       "    }\n",
       "</style>\n",
       "<table border=\"1\" class=\"dataframe\">\n",
       "  <thead>\n",
       "    <tr style=\"text-align: right;\">\n",
       "      <th></th>\n",
       "      <th>color_D</th>\n",
       "      <th>color_E</th>\n",
       "      <th>color_F</th>\n",
       "      <th>color_G</th>\n",
       "      <th>color_H</th>\n",
       "      <th>color_I</th>\n",
       "      <th>color_J</th>\n",
       "    </tr>\n",
       "  </thead>\n",
       "  <tbody>\n",
       "    <tr>\n",
       "      <th>0</th>\n",
       "      <td>0</td>\n",
       "      <td>1</td>\n",
       "      <td>0</td>\n",
       "      <td>0</td>\n",
       "      <td>0</td>\n",
       "      <td>0</td>\n",
       "      <td>0</td>\n",
       "    </tr>\n",
       "    <tr>\n",
       "      <th>1</th>\n",
       "      <td>0</td>\n",
       "      <td>1</td>\n",
       "      <td>0</td>\n",
       "      <td>0</td>\n",
       "      <td>0</td>\n",
       "      <td>0</td>\n",
       "      <td>0</td>\n",
       "    </tr>\n",
       "    <tr>\n",
       "      <th>2</th>\n",
       "      <td>0</td>\n",
       "      <td>1</td>\n",
       "      <td>0</td>\n",
       "      <td>0</td>\n",
       "      <td>0</td>\n",
       "      <td>0</td>\n",
       "      <td>0</td>\n",
       "    </tr>\n",
       "    <tr>\n",
       "      <th>3</th>\n",
       "      <td>0</td>\n",
       "      <td>0</td>\n",
       "      <td>0</td>\n",
       "      <td>0</td>\n",
       "      <td>0</td>\n",
       "      <td>1</td>\n",
       "      <td>0</td>\n",
       "    </tr>\n",
       "    <tr>\n",
       "      <th>4</th>\n",
       "      <td>0</td>\n",
       "      <td>0</td>\n",
       "      <td>0</td>\n",
       "      <td>0</td>\n",
       "      <td>0</td>\n",
       "      <td>0</td>\n",
       "      <td>1</td>\n",
       "    </tr>\n",
       "  </tbody>\n",
       "</table>\n",
       "</div>"
      ],
      "text/plain": [
       "   color_D  color_E  color_F  color_G  color_H  color_I  color_J\n",
       "0        0        1        0        0        0        0        0\n",
       "1        0        1        0        0        0        0        0\n",
       "2        0        1        0        0        0        0        0\n",
       "3        0        0        0        0        0        1        0\n",
       "4        0        0        0        0        0        0        1"
      ]
     },
     "execution_count": 9,
     "metadata": {},
     "output_type": "execute_result"
    }
   ],
   "source": [
    "one_hot = pd.get_dummies(data[\"color\"],\n",
    "                         prefix=\"color\",\n",
    "                         drop_first=False)\n",
    "one_hot.head(5)"
   ]
  },
  {
   "cell_type": "markdown",
   "metadata": {
    "id": "ySsSvtSsJUsC"
   },
   "source": [
    "Note how the text specified in the prefix parameter for the <b>get_dummies</b> method is combined with the category names of color.\n",
    "\n",
    "Now, we add one-hot encoding of the color variable to the diamond dataset.\n"
   ]
  },
  {
   "cell_type": "code",
   "execution_count": 10,
   "metadata": {
    "ExecuteTime": {
     "end_time": "2022-04-15T03:15:12.274175Z",
     "start_time": "2022-04-15T03:15:12.245612Z"
    },
    "colab": {
     "base_uri": "https://localhost:8080/",
     "height": 206
    },
    "id": "P3xh3NUgJZGa",
    "outputId": "79b73842-6d90-46f8-8f88-c39f9a0eab59"
   },
   "outputs": [
    {
     "data": {
      "text/html": [
       "<div>\n",
       "<style scoped>\n",
       "    .dataframe tbody tr th:only-of-type {\n",
       "        vertical-align: middle;\n",
       "    }\n",
       "\n",
       "    .dataframe tbody tr th {\n",
       "        vertical-align: top;\n",
       "    }\n",
       "\n",
       "    .dataframe thead th {\n",
       "        text-align: right;\n",
       "    }\n",
       "</style>\n",
       "<table border=\"1\" class=\"dataframe\">\n",
       "  <thead>\n",
       "    <tr style=\"text-align: right;\">\n",
       "      <th></th>\n",
       "      <th>carat</th>\n",
       "      <th>cut</th>\n",
       "      <th>clarity</th>\n",
       "      <th>depth</th>\n",
       "      <th>table</th>\n",
       "      <th>price</th>\n",
       "      <th>x</th>\n",
       "      <th>y</th>\n",
       "      <th>z</th>\n",
       "      <th>color_D</th>\n",
       "      <th>color_E</th>\n",
       "      <th>color_F</th>\n",
       "      <th>color_G</th>\n",
       "      <th>color_H</th>\n",
       "      <th>color_I</th>\n",
       "      <th>color_J</th>\n",
       "    </tr>\n",
       "  </thead>\n",
       "  <tbody>\n",
       "    <tr>\n",
       "      <th>0</th>\n",
       "      <td>0.23</td>\n",
       "      <td>Ideal</td>\n",
       "      <td>SI2</td>\n",
       "      <td>61.5</td>\n",
       "      <td>55.0</td>\n",
       "      <td>326</td>\n",
       "      <td>3.95</td>\n",
       "      <td>3.98</td>\n",
       "      <td>2.43</td>\n",
       "      <td>0</td>\n",
       "      <td>1</td>\n",
       "      <td>0</td>\n",
       "      <td>0</td>\n",
       "      <td>0</td>\n",
       "      <td>0</td>\n",
       "      <td>0</td>\n",
       "    </tr>\n",
       "    <tr>\n",
       "      <th>1</th>\n",
       "      <td>0.21</td>\n",
       "      <td>Premium</td>\n",
       "      <td>SI1</td>\n",
       "      <td>59.8</td>\n",
       "      <td>61.0</td>\n",
       "      <td>326</td>\n",
       "      <td>3.89</td>\n",
       "      <td>3.84</td>\n",
       "      <td>2.31</td>\n",
       "      <td>0</td>\n",
       "      <td>1</td>\n",
       "      <td>0</td>\n",
       "      <td>0</td>\n",
       "      <td>0</td>\n",
       "      <td>0</td>\n",
       "      <td>0</td>\n",
       "    </tr>\n",
       "    <tr>\n",
       "      <th>2</th>\n",
       "      <td>0.23</td>\n",
       "      <td>Good</td>\n",
       "      <td>VS1</td>\n",
       "      <td>56.9</td>\n",
       "      <td>65.0</td>\n",
       "      <td>327</td>\n",
       "      <td>4.05</td>\n",
       "      <td>4.07</td>\n",
       "      <td>2.31</td>\n",
       "      <td>0</td>\n",
       "      <td>1</td>\n",
       "      <td>0</td>\n",
       "      <td>0</td>\n",
       "      <td>0</td>\n",
       "      <td>0</td>\n",
       "      <td>0</td>\n",
       "    </tr>\n",
       "    <tr>\n",
       "      <th>3</th>\n",
       "      <td>0.29</td>\n",
       "      <td>Premium</td>\n",
       "      <td>VS2</td>\n",
       "      <td>62.4</td>\n",
       "      <td>58.0</td>\n",
       "      <td>334</td>\n",
       "      <td>4.20</td>\n",
       "      <td>4.23</td>\n",
       "      <td>2.63</td>\n",
       "      <td>0</td>\n",
       "      <td>0</td>\n",
       "      <td>0</td>\n",
       "      <td>0</td>\n",
       "      <td>0</td>\n",
       "      <td>1</td>\n",
       "      <td>0</td>\n",
       "    </tr>\n",
       "    <tr>\n",
       "      <th>4</th>\n",
       "      <td>0.31</td>\n",
       "      <td>Good</td>\n",
       "      <td>SI2</td>\n",
       "      <td>63.3</td>\n",
       "      <td>58.0</td>\n",
       "      <td>335</td>\n",
       "      <td>4.34</td>\n",
       "      <td>4.35</td>\n",
       "      <td>2.75</td>\n",
       "      <td>0</td>\n",
       "      <td>0</td>\n",
       "      <td>0</td>\n",
       "      <td>0</td>\n",
       "      <td>0</td>\n",
       "      <td>0</td>\n",
       "      <td>1</td>\n",
       "    </tr>\n",
       "  </tbody>\n",
       "</table>\n",
       "</div>"
      ],
      "text/plain": [
       "   carat      cut clarity  depth  table  price     x     y     z  color_D  \\\n",
       "0   0.23    Ideal     SI2   61.5   55.0    326  3.95  3.98  2.43        0   \n",
       "1   0.21  Premium     SI1   59.8   61.0    326  3.89  3.84  2.31        0   \n",
       "2   0.23     Good     VS1   56.9   65.0    327  4.05  4.07  2.31        0   \n",
       "3   0.29  Premium     VS2   62.4   58.0    334  4.20  4.23  2.63        0   \n",
       "4   0.31     Good     SI2   63.3   58.0    335  4.34  4.35  2.75        0   \n",
       "\n",
       "   color_E  color_F  color_G  color_H  color_I  color_J  \n",
       "0        1        0        0        0        0        0  \n",
       "1        1        0        0        0        0        0  \n",
       "2        1        0        0        0        0        0  \n",
       "3        0        0        0        0        1        0  \n",
       "4        0        0        0        0        0        1  "
      ]
     },
     "execution_count": 10,
     "metadata": {},
     "output_type": "execute_result"
    }
   ],
   "source": [
    "one_hot_df = pd.get_dummies(data, prefix=\"color\", \n",
    "                            columns=[\"color\"], \n",
    "                            drop_first=False)\n",
    "one_hot_df.head()"
   ]
  },
  {
   "cell_type": "markdown",
   "metadata": {},
   "source": [
    "Let's check the resulting number of rows and columns in the dataset after applying one hot encoding to the <b>color</b> variable:\n",
    "\n"
   ]
  },
  {
   "cell_type": "code",
   "execution_count": 11,
   "metadata": {
    "ExecuteTime": {
     "end_time": "2022-04-15T03:15:12.280385Z",
     "start_time": "2022-04-15T03:15:12.276165Z"
    },
    "colab": {
     "base_uri": "https://localhost:8080/"
    },
    "id": "4tffNgSUS15a",
    "outputId": "4dd1b25d-3f2d-429e-dafe-8b34f554d599"
   },
   "outputs": [
    {
     "data": {
      "text/plain": [
       "(53940, 16)"
      ]
     },
     "execution_count": 11,
     "metadata": {},
     "output_type": "execute_result"
    }
   ],
   "source": [
    "one_hot_df.shape"
   ]
  },
  {
   "cell_type": "markdown",
   "metadata": {},
   "source": [
    "Notice how now there are sixteen columns after applying one hot encoding just to the <b>color</b> variable. \n",
    "\n"
   ]
  },
  {
   "cell_type": "markdown",
   "metadata": {},
   "source": [
    "### Applying pandas one hot encoding to the entire diamond dataset\n",
    "\n",
    "Let's apply one hot encoding to all three of the categorical variables: <b>color</b>, <b>cut</b>, and <b>clarity</b>:"
   ]
  },
  {
   "cell_type": "code",
   "execution_count": 12,
   "metadata": {
    "ExecuteTime": {
     "end_time": "2022-04-15T03:15:12.313625Z",
     "start_time": "2022-04-15T03:15:12.282320Z"
    },
    "id": "k9kP9x7TKZnK"
   },
   "outputs": [],
   "source": [
    "one_hot_df = pd.get_dummies(data, prefix={'color':'color',\n",
    "                                        'cut':'cut',\n",
    "                                        'clarity':'clarity'},\n",
    "                            drop_first=False)  # creating dummies to all the categorical features"
   ]
  },
  {
   "cell_type": "code",
   "execution_count": 13,
   "metadata": {
    "ExecuteTime": {
     "end_time": "2022-04-15T03:15:12.319423Z",
     "start_time": "2022-04-15T03:15:12.315321Z"
    },
    "colab": {
     "base_uri": "https://localhost:8080/"
    },
    "id": "LhEJKkCrKhM7",
    "outputId": "2a9c8301-143f-498d-8637-cbdd14cad448"
   },
   "outputs": [
    {
     "data": {
      "text/plain": [
       "(53940, 27)"
      ]
     },
     "execution_count": 13,
     "metadata": {},
     "output_type": "execute_result"
    }
   ],
   "source": [
    "one_hot_df.shape"
   ]
  },
  {
   "cell_type": "markdown",
   "metadata": {
    "id": "aZz76Zj1KrEj"
   },
   "source": [
    "After one hot encoding is applied to all three of the categorical variables,the diamond dataset now has 27 columns. This is because one-hot encoding has added 20 extra dummy variables. So, either type of dummy encoding (or any encoding expands the feature space (dimensionality) in your dataset."
   ]
  },
  {
   "cell_type": "markdown",
   "metadata": {},
   "source": [
    "### Applying pandas dummy encoding to the entire diamond dataset\n",
    "\n",
    "To implement dummy encoding to the data, you can follow the same steps performed in one-hot encoding. The only difference is that you should <b>set the drop_first parameter to True instead of False.</b>\n"
   ]
  },
  {
   "cell_type": "code",
   "execution_count": 14,
   "metadata": {
    "ExecuteTime": {
     "end_time": "2022-04-15T03:15:12.357006Z",
     "start_time": "2022-04-15T03:15:12.321574Z"
    }
   },
   "outputs": [],
   "source": [
    "dummy_df = pd.get_dummies(data, prefix={'color':'color', \n",
    "                                      'cut':'cut',\n",
    "                                      'clarity':'clarity'},\n",
    "                          drop_first=True)\n",
    "\n"
   ]
  },
  {
   "cell_type": "code",
   "execution_count": 15,
   "metadata": {
    "ExecuteTime": {
     "end_time": "2022-04-15T03:15:12.362395Z",
     "start_time": "2022-04-15T03:15:12.359408Z"
    }
   },
   "outputs": [
    {
     "data": {
      "text/plain": [
       "(53940, 24)"
      ]
     },
     "execution_count": 15,
     "metadata": {},
     "output_type": "execute_result"
    }
   ],
   "source": [
    "dummy_df.shape"
   ]
  },
  {
   "cell_type": "code",
   "execution_count": 16,
   "metadata": {
    "ExecuteTime": {
     "end_time": "2022-04-15T03:15:12.387692Z",
     "start_time": "2022-04-15T03:15:12.363800Z"
    }
   },
   "outputs": [
    {
     "data": {
      "text/html": [
       "<div>\n",
       "<style scoped>\n",
       "    .dataframe tbody tr th:only-of-type {\n",
       "        vertical-align: middle;\n",
       "    }\n",
       "\n",
       "    .dataframe tbody tr th {\n",
       "        vertical-align: top;\n",
       "    }\n",
       "\n",
       "    .dataframe thead th {\n",
       "        text-align: right;\n",
       "    }\n",
       "</style>\n",
       "<table border=\"1\" class=\"dataframe\">\n",
       "  <thead>\n",
       "    <tr style=\"text-align: right;\">\n",
       "      <th></th>\n",
       "      <th>carat</th>\n",
       "      <th>depth</th>\n",
       "      <th>table</th>\n",
       "      <th>price</th>\n",
       "      <th>x</th>\n",
       "      <th>y</th>\n",
       "      <th>z</th>\n",
       "      <th>cut_Good</th>\n",
       "      <th>cut_Ideal</th>\n",
       "      <th>cut_Premium</th>\n",
       "      <th>...</th>\n",
       "      <th>color_H</th>\n",
       "      <th>color_I</th>\n",
       "      <th>color_J</th>\n",
       "      <th>clarity_IF</th>\n",
       "      <th>clarity_SI1</th>\n",
       "      <th>clarity_SI2</th>\n",
       "      <th>clarity_VS1</th>\n",
       "      <th>clarity_VS2</th>\n",
       "      <th>clarity_VVS1</th>\n",
       "      <th>clarity_VVS2</th>\n",
       "    </tr>\n",
       "  </thead>\n",
       "  <tbody>\n",
       "    <tr>\n",
       "      <th>0</th>\n",
       "      <td>0.23</td>\n",
       "      <td>61.5</td>\n",
       "      <td>55.0</td>\n",
       "      <td>326</td>\n",
       "      <td>3.95</td>\n",
       "      <td>3.98</td>\n",
       "      <td>2.43</td>\n",
       "      <td>0</td>\n",
       "      <td>1</td>\n",
       "      <td>0</td>\n",
       "      <td>...</td>\n",
       "      <td>0</td>\n",
       "      <td>0</td>\n",
       "      <td>0</td>\n",
       "      <td>0</td>\n",
       "      <td>0</td>\n",
       "      <td>1</td>\n",
       "      <td>0</td>\n",
       "      <td>0</td>\n",
       "      <td>0</td>\n",
       "      <td>0</td>\n",
       "    </tr>\n",
       "    <tr>\n",
       "      <th>1</th>\n",
       "      <td>0.21</td>\n",
       "      <td>59.8</td>\n",
       "      <td>61.0</td>\n",
       "      <td>326</td>\n",
       "      <td>3.89</td>\n",
       "      <td>3.84</td>\n",
       "      <td>2.31</td>\n",
       "      <td>0</td>\n",
       "      <td>0</td>\n",
       "      <td>1</td>\n",
       "      <td>...</td>\n",
       "      <td>0</td>\n",
       "      <td>0</td>\n",
       "      <td>0</td>\n",
       "      <td>0</td>\n",
       "      <td>1</td>\n",
       "      <td>0</td>\n",
       "      <td>0</td>\n",
       "      <td>0</td>\n",
       "      <td>0</td>\n",
       "      <td>0</td>\n",
       "    </tr>\n",
       "    <tr>\n",
       "      <th>2</th>\n",
       "      <td>0.23</td>\n",
       "      <td>56.9</td>\n",
       "      <td>65.0</td>\n",
       "      <td>327</td>\n",
       "      <td>4.05</td>\n",
       "      <td>4.07</td>\n",
       "      <td>2.31</td>\n",
       "      <td>1</td>\n",
       "      <td>0</td>\n",
       "      <td>0</td>\n",
       "      <td>...</td>\n",
       "      <td>0</td>\n",
       "      <td>0</td>\n",
       "      <td>0</td>\n",
       "      <td>0</td>\n",
       "      <td>0</td>\n",
       "      <td>0</td>\n",
       "      <td>1</td>\n",
       "      <td>0</td>\n",
       "      <td>0</td>\n",
       "      <td>0</td>\n",
       "    </tr>\n",
       "    <tr>\n",
       "      <th>3</th>\n",
       "      <td>0.29</td>\n",
       "      <td>62.4</td>\n",
       "      <td>58.0</td>\n",
       "      <td>334</td>\n",
       "      <td>4.20</td>\n",
       "      <td>4.23</td>\n",
       "      <td>2.63</td>\n",
       "      <td>0</td>\n",
       "      <td>0</td>\n",
       "      <td>1</td>\n",
       "      <td>...</td>\n",
       "      <td>0</td>\n",
       "      <td>1</td>\n",
       "      <td>0</td>\n",
       "      <td>0</td>\n",
       "      <td>0</td>\n",
       "      <td>0</td>\n",
       "      <td>0</td>\n",
       "      <td>1</td>\n",
       "      <td>0</td>\n",
       "      <td>0</td>\n",
       "    </tr>\n",
       "  </tbody>\n",
       "</table>\n",
       "<p>4 rows × 24 columns</p>\n",
       "</div>"
      ],
      "text/plain": [
       "   carat  depth  table  price     x     y     z  cut_Good  cut_Ideal  \\\n",
       "0   0.23   61.5   55.0    326  3.95  3.98  2.43         0          1   \n",
       "1   0.21   59.8   61.0    326  3.89  3.84  2.31         0          0   \n",
       "2   0.23   56.9   65.0    327  4.05  4.07  2.31         1          0   \n",
       "3   0.29   62.4   58.0    334  4.20  4.23  2.63         0          0   \n",
       "\n",
       "   cut_Premium  ...  color_H  color_I  color_J  clarity_IF  clarity_SI1  \\\n",
       "0            0  ...        0        0        0           0            0   \n",
       "1            1  ...        0        0        0           0            1   \n",
       "2            0  ...        0        0        0           0            0   \n",
       "3            1  ...        0        1        0           0            0   \n",
       "\n",
       "   clarity_SI2  clarity_VS1  clarity_VS2  clarity_VVS1  clarity_VVS2  \n",
       "0            1            0            0             0             0  \n",
       "1            0            0            0             0             0  \n",
       "2            0            1            0             0             0  \n",
       "3            0            0            1             0             0  \n",
       "\n",
       "[4 rows x 24 columns]"
      ]
     },
     "execution_count": 16,
     "metadata": {},
     "output_type": "execute_result"
    }
   ],
   "source": [
    "dummy_df.head(4)"
   ]
  },
  {
   "cell_type": "code",
   "execution_count": 17,
   "metadata": {
    "ExecuteTime": {
     "end_time": "2022-04-15T03:15:12.393501Z",
     "start_time": "2022-04-15T03:15:12.390532Z"
    }
   },
   "outputs": [],
   "source": [
    "import sklearn\n",
    "from sklearn.preprocessing import OneHotEncoder\n",
    "ohe = OneHotEncoder(sparse =True)\n"
   ]
  },
  {
   "cell_type": "markdown",
   "metadata": {},
   "source": [
    "\n",
    "Let us load the data again to demonstrate OneHotEncoder using SKlearn.\n"
   ]
  },
  {
   "cell_type": "code",
   "execution_count": 18,
   "metadata": {
    "ExecuteTime": {
     "end_time": "2022-04-15T03:15:12.915000Z",
     "start_time": "2022-04-15T03:15:12.395463Z"
    },
    "id": "I2ElUYexpa5Y"
   },
   "outputs": [],
   "source": [
    "import pandas as pd\n",
    "\n",
    "source = sv_rep_path + \"diamonds.csv\"\n",
    "\n",
    "data = pd.read_csv(source)"
   ]
  },
  {
   "cell_type": "code",
   "execution_count": 19,
   "metadata": {
    "ExecuteTime": {
     "end_time": "2022-04-15T03:15:12.935988Z",
     "start_time": "2022-04-15T03:15:12.917166Z"
    },
    "colab": {
     "base_uri": "https://localhost:8080/",
     "height": 206
    },
    "id": "lgH59no9LrOK",
    "outputId": "45d67699-a377-419e-f34f-bf0dae465210"
   },
   "outputs": [
    {
     "data": {
      "text/html": [
       "<div>\n",
       "<style scoped>\n",
       "    .dataframe tbody tr th:only-of-type {\n",
       "        vertical-align: middle;\n",
       "    }\n",
       "\n",
       "    .dataframe tbody tr th {\n",
       "        vertical-align: top;\n",
       "    }\n",
       "\n",
       "    .dataframe thead th {\n",
       "        text-align: right;\n",
       "    }\n",
       "</style>\n",
       "<table border=\"1\" class=\"dataframe\">\n",
       "  <thead>\n",
       "    <tr style=\"text-align: right;\">\n",
       "      <th></th>\n",
       "      <th>carat</th>\n",
       "      <th>cut</th>\n",
       "      <th>color</th>\n",
       "      <th>clarity</th>\n",
       "      <th>depth</th>\n",
       "      <th>table</th>\n",
       "      <th>price</th>\n",
       "      <th>x</th>\n",
       "      <th>y</th>\n",
       "      <th>z</th>\n",
       "    </tr>\n",
       "  </thead>\n",
       "  <tbody>\n",
       "    <tr>\n",
       "      <th>0</th>\n",
       "      <td>0.23</td>\n",
       "      <td>Ideal</td>\n",
       "      <td>E</td>\n",
       "      <td>SI2</td>\n",
       "      <td>61.5</td>\n",
       "      <td>55.0</td>\n",
       "      <td>326</td>\n",
       "      <td>3.95</td>\n",
       "      <td>3.98</td>\n",
       "      <td>2.43</td>\n",
       "    </tr>\n",
       "    <tr>\n",
       "      <th>1</th>\n",
       "      <td>0.21</td>\n",
       "      <td>Premium</td>\n",
       "      <td>E</td>\n",
       "      <td>SI1</td>\n",
       "      <td>59.8</td>\n",
       "      <td>61.0</td>\n",
       "      <td>326</td>\n",
       "      <td>3.89</td>\n",
       "      <td>3.84</td>\n",
       "      <td>2.31</td>\n",
       "    </tr>\n",
       "    <tr>\n",
       "      <th>2</th>\n",
       "      <td>0.23</td>\n",
       "      <td>Good</td>\n",
       "      <td>E</td>\n",
       "      <td>VS1</td>\n",
       "      <td>56.9</td>\n",
       "      <td>65.0</td>\n",
       "      <td>327</td>\n",
       "      <td>4.05</td>\n",
       "      <td>4.07</td>\n",
       "      <td>2.31</td>\n",
       "    </tr>\n",
       "    <tr>\n",
       "      <th>3</th>\n",
       "      <td>0.29</td>\n",
       "      <td>Premium</td>\n",
       "      <td>I</td>\n",
       "      <td>VS2</td>\n",
       "      <td>62.4</td>\n",
       "      <td>58.0</td>\n",
       "      <td>334</td>\n",
       "      <td>4.20</td>\n",
       "      <td>4.23</td>\n",
       "      <td>2.63</td>\n",
       "    </tr>\n",
       "    <tr>\n",
       "      <th>4</th>\n",
       "      <td>0.31</td>\n",
       "      <td>Good</td>\n",
       "      <td>J</td>\n",
       "      <td>SI2</td>\n",
       "      <td>63.3</td>\n",
       "      <td>58.0</td>\n",
       "      <td>335</td>\n",
       "      <td>4.34</td>\n",
       "      <td>4.35</td>\n",
       "      <td>2.75</td>\n",
       "    </tr>\n",
       "  </tbody>\n",
       "</table>\n",
       "</div>"
      ],
      "text/plain": [
       "   carat      cut color clarity  depth  table  price     x     y     z\n",
       "0   0.23    Ideal     E     SI2   61.5   55.0    326  3.95  3.98  2.43\n",
       "1   0.21  Premium     E     SI1   59.8   61.0    326  3.89  3.84  2.31\n",
       "2   0.23     Good     E     VS1   56.9   65.0    327  4.05  4.07  2.31\n",
       "3   0.29  Premium     I     VS2   62.4   58.0    334  4.20  4.23  2.63\n",
       "4   0.31     Good     J     SI2   63.3   58.0    335  4.34  4.35  2.75"
      ]
     },
     "execution_count": 19,
     "metadata": {},
     "output_type": "execute_result"
    }
   ],
   "source": [
    "# Again, drop the useless \"Unnamed\" column.\n",
    "\n",
    "data.drop([\"Unnamed: 0\"], axis = 1, inplace = True)\n",
    "  \n",
    "# display\n",
    "data.head()"
   ]
  },
  {
   "cell_type": "markdown",
   "metadata": {},
   "source": [
    "Let's apply the sklearn OneHotEncoder (ohe) to the <b>color</b> variable of the diamond dataset:\n"
   ]
  },
  {
   "cell_type": "code",
   "execution_count": 20,
   "metadata": {
    "ExecuteTime": {
     "end_time": "2022-04-15T03:15:12.959133Z",
     "start_time": "2022-04-15T03:15:12.940397Z"
    },
    "colab": {
     "base_uri": "https://localhost:8080/"
    },
    "id": "C5MNCkxoymhV",
    "outputId": "4b230ec7-832f-424c-a026-be3d9dde9ccb"
   },
   "outputs": [
    {
     "data": {
      "text/plain": [
       "<53940x7 sparse matrix of type '<class 'numpy.float64'>'\n",
       "\twith 53940 stored elements in Compressed Sparse Row format>"
      ]
     },
     "execution_count": 20,
     "metadata": {},
     "output_type": "execute_result"
    }
   ],
   "source": [
    "\n",
    "ohe.fit_transform(data[['color']])\n"
   ]
  },
  {
   "cell_type": "markdown",
   "metadata": {},
   "source": [
    "Which are the category values seen by the OneHotEncoder class? We can check using the <b>categories</b> method:\n",
    "\n"
   ]
  },
  {
   "cell_type": "code",
   "execution_count": 21,
   "metadata": {
    "ExecuteTime": {
     "end_time": "2022-04-15T03:15:12.965658Z",
     "start_time": "2022-04-15T03:15:12.961454Z"
    },
    "colab": {
     "base_uri": "https://localhost:8080/"
    },
    "id": "Add0IPhWzSmt",
    "outputId": "6f9973d2-9af3-4e34-b15f-8b759b8ef6b2"
   },
   "outputs": [
    {
     "data": {
      "text/plain": [
       "[array(['D', 'E', 'F', 'G', 'H', 'I', 'J'], dtype=object)]"
      ]
     },
     "execution_count": 21,
     "metadata": {},
     "output_type": "execute_result"
    }
   ],
   "source": [
    "ohe.categories_"
   ]
  },
  {
   "cell_type": "code",
   "execution_count": 22,
   "metadata": {
    "ExecuteTime": {
     "end_time": "2022-04-15T03:15:13.026895Z",
     "start_time": "2022-04-15T03:15:12.970904Z"
    },
    "id": "Cb4AzaoSzSjt"
   },
   "outputs": [],
   "source": [
    "from sklearn.preprocessing import OneHotEncoder\n",
    "# Instantiate OneHotEncoder\n",
    "\n",
    "ohe = OneHotEncoder(categories='auto', \n",
    "                    drop=None,sparse=False)\n",
    "ohe_df = pd.DataFrame(ohe.fit_transform(data[['cut', \n",
    "                                            'color', 'clarity']]))"
   ]
  },
  {
   "cell_type": "code",
   "execution_count": 23,
   "metadata": {
    "ExecuteTime": {
     "end_time": "2022-04-15T03:15:13.036896Z",
     "start_time": "2022-04-15T03:15:13.031922Z"
    },
    "colab": {
     "base_uri": "https://localhost:8080/"
    },
    "id": "ie9y4jWiPMUi",
    "outputId": "3a53f8bf-3777-47cd-a7f4-751a76ea9dc2"
   },
   "outputs": [
    {
     "data": {
      "text/plain": [
       "(53940, 20)"
      ]
     },
     "execution_count": 23,
     "metadata": {},
     "output_type": "execute_result"
    }
   ],
   "source": [
    "ohe_df.shape"
   ]
  },
  {
   "cell_type": "markdown",
   "metadata": {},
   "source": [
    "So after using the sklearn OneHotEncoder class to implement one hot encoding for all three categorical variables, we used the <b>shape</b> method to show that there are 20 columns, same as after applying one hot encoding using pandas.\n"
   ]
  },
  {
   "cell_type": "markdown",
   "metadata": {
    "id": "d6-jkN7QOvZK"
   },
   "source": [
    "The encoded dataset has 24 variables. This is because dummy encoding has added 17 extra dummy variables when encoding the categorical variables. So, dummy encoding also expands the feature space (dimensionality) in your dataset."
   ]
  },
  {
   "cell_type": "markdown",
   "metadata": {
    "id": "pyV3IY1JTMpD"
   },
   "source": [
    "## Dummy encoding with Scikit-learn"
   ]
  },
  {
   "cell_type": "code",
   "execution_count": 24,
   "metadata": {
    "ExecuteTime": {
     "end_time": "2022-04-15T03:15:13.104225Z",
     "start_time": "2022-04-15T03:15:13.039546Z"
    },
    "id": "KmrqznV0PXMT"
   },
   "outputs": [],
   "source": [
    "#You can simply do this by specifying the drop parameter to ‘first’.\n",
    "de = OneHotEncoder(categories='auto', \n",
    "                    drop='first',sparse=False)\n",
    "\n",
    "de_df = pd.DataFrame(de.fit_transform(data[['cut', \n",
    "                                            'color', 'clarity']]))"
   ]
  },
  {
   "cell_type": "code",
   "execution_count": 25,
   "metadata": {
    "ExecuteTime": {
     "end_time": "2022-04-15T03:15:13.110085Z",
     "start_time": "2022-04-15T03:15:13.106369Z"
    },
    "colab": {
     "base_uri": "https://localhost:8080/"
    },
    "id": "F9VqM5WTPs1p",
    "outputId": "b4586dd7-52a8-47ff-be77-71961a3ddf51"
   },
   "outputs": [
    {
     "data": {
      "text/plain": [
       "(53940, 17)"
      ]
     },
     "execution_count": 25,
     "metadata": {},
     "output_type": "execute_result"
    }
   ],
   "source": [
    "de_df.shape"
   ]
  },
  {
   "cell_type": "code",
   "execution_count": 26,
   "metadata": {
    "ExecuteTime": {
     "end_time": "2022-04-15T03:15:13.132467Z",
     "start_time": "2022-04-15T03:15:13.111829Z"
    },
    "colab": {
     "base_uri": "https://localhost:8080/",
     "height": 175
    },
    "id": "n7Sx9ptCTsni",
    "outputId": "4bb2de25-e23a-4f32-a778-c7f7644ab178"
   },
   "outputs": [
    {
     "data": {
      "text/html": [
       "<div>\n",
       "<style scoped>\n",
       "    .dataframe tbody tr th:only-of-type {\n",
       "        vertical-align: middle;\n",
       "    }\n",
       "\n",
       "    .dataframe tbody tr th {\n",
       "        vertical-align: top;\n",
       "    }\n",
       "\n",
       "    .dataframe thead th {\n",
       "        text-align: right;\n",
       "    }\n",
       "</style>\n",
       "<table border=\"1\" class=\"dataframe\">\n",
       "  <thead>\n",
       "    <tr style=\"text-align: right;\">\n",
       "      <th></th>\n",
       "      <th>0</th>\n",
       "      <th>1</th>\n",
       "      <th>2</th>\n",
       "      <th>3</th>\n",
       "      <th>4</th>\n",
       "      <th>5</th>\n",
       "      <th>6</th>\n",
       "      <th>7</th>\n",
       "      <th>8</th>\n",
       "      <th>9</th>\n",
       "      <th>10</th>\n",
       "      <th>11</th>\n",
       "      <th>12</th>\n",
       "      <th>13</th>\n",
       "      <th>14</th>\n",
       "      <th>15</th>\n",
       "      <th>16</th>\n",
       "    </tr>\n",
       "  </thead>\n",
       "  <tbody>\n",
       "    <tr>\n",
       "      <th>0</th>\n",
       "      <td>0.0</td>\n",
       "      <td>1.0</td>\n",
       "      <td>0.0</td>\n",
       "      <td>0.0</td>\n",
       "      <td>1.0</td>\n",
       "      <td>0.0</td>\n",
       "      <td>0.0</td>\n",
       "      <td>0.0</td>\n",
       "      <td>0.0</td>\n",
       "      <td>0.0</td>\n",
       "      <td>0.0</td>\n",
       "      <td>0.0</td>\n",
       "      <td>1.0</td>\n",
       "      <td>0.0</td>\n",
       "      <td>0.0</td>\n",
       "      <td>0.0</td>\n",
       "      <td>0.0</td>\n",
       "    </tr>\n",
       "    <tr>\n",
       "      <th>1</th>\n",
       "      <td>0.0</td>\n",
       "      <td>0.0</td>\n",
       "      <td>1.0</td>\n",
       "      <td>0.0</td>\n",
       "      <td>1.0</td>\n",
       "      <td>0.0</td>\n",
       "      <td>0.0</td>\n",
       "      <td>0.0</td>\n",
       "      <td>0.0</td>\n",
       "      <td>0.0</td>\n",
       "      <td>0.0</td>\n",
       "      <td>1.0</td>\n",
       "      <td>0.0</td>\n",
       "      <td>0.0</td>\n",
       "      <td>0.0</td>\n",
       "      <td>0.0</td>\n",
       "      <td>0.0</td>\n",
       "    </tr>\n",
       "    <tr>\n",
       "      <th>2</th>\n",
       "      <td>1.0</td>\n",
       "      <td>0.0</td>\n",
       "      <td>0.0</td>\n",
       "      <td>0.0</td>\n",
       "      <td>1.0</td>\n",
       "      <td>0.0</td>\n",
       "      <td>0.0</td>\n",
       "      <td>0.0</td>\n",
       "      <td>0.0</td>\n",
       "      <td>0.0</td>\n",
       "      <td>0.0</td>\n",
       "      <td>0.0</td>\n",
       "      <td>0.0</td>\n",
       "      <td>1.0</td>\n",
       "      <td>0.0</td>\n",
       "      <td>0.0</td>\n",
       "      <td>0.0</td>\n",
       "    </tr>\n",
       "    <tr>\n",
       "      <th>3</th>\n",
       "      <td>0.0</td>\n",
       "      <td>0.0</td>\n",
       "      <td>1.0</td>\n",
       "      <td>0.0</td>\n",
       "      <td>0.0</td>\n",
       "      <td>0.0</td>\n",
       "      <td>0.0</td>\n",
       "      <td>0.0</td>\n",
       "      <td>1.0</td>\n",
       "      <td>0.0</td>\n",
       "      <td>0.0</td>\n",
       "      <td>0.0</td>\n",
       "      <td>0.0</td>\n",
       "      <td>0.0</td>\n",
       "      <td>1.0</td>\n",
       "      <td>0.0</td>\n",
       "      <td>0.0</td>\n",
       "    </tr>\n",
       "  </tbody>\n",
       "</table>\n",
       "</div>"
      ],
      "text/plain": [
       "    0    1    2    3    4    5    6    7    8    9    10   11   12   13   14  \\\n",
       "0  0.0  1.0  0.0  0.0  1.0  0.0  0.0  0.0  0.0  0.0  0.0  0.0  1.0  0.0  0.0   \n",
       "1  0.0  0.0  1.0  0.0  1.0  0.0  0.0  0.0  0.0  0.0  0.0  1.0  0.0  0.0  0.0   \n",
       "2  1.0  0.0  0.0  0.0  1.0  0.0  0.0  0.0  0.0  0.0  0.0  0.0  0.0  1.0  0.0   \n",
       "3  0.0  0.0  1.0  0.0  0.0  0.0  0.0  0.0  1.0  0.0  0.0  0.0  0.0  0.0  1.0   \n",
       "\n",
       "    15   16  \n",
       "0  0.0  0.0  \n",
       "1  0.0  0.0  \n",
       "2  0.0  0.0  \n",
       "3  0.0  0.0  "
      ]
     },
     "execution_count": 26,
     "metadata": {},
     "output_type": "execute_result"
    }
   ],
   "source": [
    "de_df.head(4)"
   ]
  },
  {
   "cell_type": "markdown",
   "metadata": {
    "id": "2jFxQJbZUCIh"
   },
   "source": [
    "This returns only the encoded categorical data, not the entire dataset with numerical variables."
   ]
  },
  {
   "cell_type": "markdown",
   "metadata": {
    "id": "AazmS7Gz8tpS"
   },
   "source": [
    "## Encoding Ordinal Data using Scikit-Learn\n",
    "\n",
    "Let's use the sklearn package OrdinalEncoder class on the Diamond dataset, for the <b>cut</b> variable.\n",
    "\n",
    "OrdinalEncoder differs from OneHotEncoder such that it assigns incremental values to the categories of an ordinal variable. \n"
   ]
  },
  {
   "cell_type": "code",
   "execution_count": 27,
   "metadata": {
    "ExecuteTime": {
     "end_time": "2022-04-15T03:15:13.175836Z",
     "start_time": "2022-04-15T03:15:13.133736Z"
    },
    "colab": {
     "base_uri": "https://localhost:8080/",
     "height": 363
    },
    "id": "e1sHivCXr1ul",
    "outputId": "ae3bdfc3-d936-49ff-a1c4-1c876b97f5e8"
   },
   "outputs": [
    {
     "data": {
      "text/html": [
       "<div>\n",
       "<style scoped>\n",
       "    .dataframe tbody tr th:only-of-type {\n",
       "        vertical-align: middle;\n",
       "    }\n",
       "\n",
       "    .dataframe tbody tr th {\n",
       "        vertical-align: top;\n",
       "    }\n",
       "\n",
       "    .dataframe thead th {\n",
       "        text-align: right;\n",
       "    }\n",
       "</style>\n",
       "<table border=\"1\" class=\"dataframe\">\n",
       "  <thead>\n",
       "    <tr style=\"text-align: right;\">\n",
       "      <th></th>\n",
       "      <th>cut_ord</th>\n",
       "      <th>cut</th>\n",
       "    </tr>\n",
       "  </thead>\n",
       "  <tbody>\n",
       "    <tr>\n",
       "      <th>0</th>\n",
       "      <td>2.0</td>\n",
       "      <td>Ideal</td>\n",
       "    </tr>\n",
       "    <tr>\n",
       "      <th>1</th>\n",
       "      <td>3.0</td>\n",
       "      <td>Premium</td>\n",
       "    </tr>\n",
       "    <tr>\n",
       "      <th>2</th>\n",
       "      <td>1.0</td>\n",
       "      <td>Good</td>\n",
       "    </tr>\n",
       "    <tr>\n",
       "      <th>3</th>\n",
       "      <td>3.0</td>\n",
       "      <td>Premium</td>\n",
       "    </tr>\n",
       "    <tr>\n",
       "      <th>4</th>\n",
       "      <td>1.0</td>\n",
       "      <td>Good</td>\n",
       "    </tr>\n",
       "    <tr>\n",
       "      <th>5</th>\n",
       "      <td>4.0</td>\n",
       "      <td>Very Good</td>\n",
       "    </tr>\n",
       "    <tr>\n",
       "      <th>6</th>\n",
       "      <td>4.0</td>\n",
       "      <td>Very Good</td>\n",
       "    </tr>\n",
       "    <tr>\n",
       "      <th>7</th>\n",
       "      <td>4.0</td>\n",
       "      <td>Very Good</td>\n",
       "    </tr>\n",
       "    <tr>\n",
       "      <th>8</th>\n",
       "      <td>0.0</td>\n",
       "      <td>Fair</td>\n",
       "    </tr>\n",
       "    <tr>\n",
       "      <th>9</th>\n",
       "      <td>4.0</td>\n",
       "      <td>Very Good</td>\n",
       "    </tr>\n",
       "  </tbody>\n",
       "</table>\n",
       "</div>"
      ],
      "text/plain": [
       "   cut_ord        cut\n",
       "0      2.0      Ideal\n",
       "1      3.0    Premium\n",
       "2      1.0       Good\n",
       "3      3.0    Premium\n",
       "4      1.0       Good\n",
       "5      4.0  Very Good\n",
       "6      4.0  Very Good\n",
       "7      4.0  Very Good\n",
       "8      0.0       Fair\n",
       "9      4.0  Very Good"
      ]
     },
     "execution_count": 27,
     "metadata": {},
     "output_type": "execute_result"
    }
   ],
   "source": [
    "# ordinal encode input variables\n",
    "\n",
    "from sklearn.preprocessing import OrdinalEncoder\n",
    "\n",
    "ord_enc = OrdinalEncoder()\n",
    "data[\"cut_ord\"] = ord_enc.fit_transform(data[[\"cut\"]])\n",
    "data[[\"cut_ord\", \"cut\"]].head(10)\n"
   ]
  },
  {
   "cell_type": "code",
   "execution_count": 28,
   "metadata": {
    "ExecuteTime": {
     "end_time": "2022-04-15T03:15:13.185219Z",
     "start_time": "2022-04-15T03:15:13.177866Z"
    },
    "id": "VIIaZ8mCuzZp"
   },
   "outputs": [
    {
     "data": {
      "text/plain": [
       "0            Ideal\n",
       "1          Premium\n",
       "2             Good\n",
       "3          Premium\n",
       "4             Good\n",
       "           ...    \n",
       "53935        Ideal\n",
       "53936         Good\n",
       "53937    Very Good\n",
       "53938      Premium\n",
       "53939        Ideal\n",
       "Name: cut, Length: 53940, dtype: object"
      ]
     },
     "execution_count": 28,
     "metadata": {},
     "output_type": "execute_result"
    }
   ],
   "source": [
    "data['cut']"
   ]
  },
  {
   "cell_type": "markdown",
   "metadata": {
    "id": "vY4cqcLx_rjR"
   },
   "source": [
    "## Label Encoding Using the OrdinalEncoder\n",
    "\n",
    "The OrdinalEncoder target labels with values between 0 and n_classes-1.\n",
    "The OrdinalEncoder transformer should be used to encode target values, i.e. y, and not the input X.\n",
    "\n",
    "If we strictly want to keep the natural order of an ordinal categorical variable, we use <b>label encoding</b> instead of the two types of encoding that we’ve discussed above.\n",
    "\n",
    "Let’s say we have a categorical variable <b>quality</b> with three categories called “Fair”, “Good” and “Premium”. The natural order of these categories is:\n",
    "\n",
    "Fair < Good < Premium => 0 < 1 < 2"
   ]
  },
  {
   "cell_type": "code",
   "execution_count": 29,
   "metadata": {
    "ExecuteTime": {
     "end_time": "2022-04-15T03:15:13.220234Z",
     "start_time": "2022-04-15T03:15:13.188665Z"
    },
    "colab": {
     "base_uri": "https://localhost:8080/",
     "height": 363
    },
    "id": "7fkpT0xN-vjZ",
    "outputId": "7d4e74c6-d036-4ec7-fcd9-17f6c96ea50d"
   },
   "outputs": [
    {
     "data": {
      "text/html": [
       "<div>\n",
       "<style scoped>\n",
       "    .dataframe tbody tr th:only-of-type {\n",
       "        vertical-align: middle;\n",
       "    }\n",
       "\n",
       "    .dataframe tbody tr th {\n",
       "        vertical-align: top;\n",
       "    }\n",
       "\n",
       "    .dataframe thead th {\n",
       "        text-align: right;\n",
       "    }\n",
       "</style>\n",
       "<table border=\"1\" class=\"dataframe\">\n",
       "  <thead>\n",
       "    <tr style=\"text-align: right;\">\n",
       "      <th></th>\n",
       "      <th>carat</th>\n",
       "      <th>cut</th>\n",
       "      <th>color</th>\n",
       "      <th>clarity</th>\n",
       "      <th>depth</th>\n",
       "      <th>table</th>\n",
       "      <th>price</th>\n",
       "      <th>x</th>\n",
       "      <th>y</th>\n",
       "      <th>z</th>\n",
       "      <th>cut_ord</th>\n",
       "      <th>cut_enc</th>\n",
       "    </tr>\n",
       "  </thead>\n",
       "  <tbody>\n",
       "    <tr>\n",
       "      <th>0</th>\n",
       "      <td>0.23</td>\n",
       "      <td>Ideal</td>\n",
       "      <td>E</td>\n",
       "      <td>SI2</td>\n",
       "      <td>61.5</td>\n",
       "      <td>55.0</td>\n",
       "      <td>326</td>\n",
       "      <td>3.95</td>\n",
       "      <td>3.98</td>\n",
       "      <td>2.43</td>\n",
       "      <td>2.0</td>\n",
       "      <td>2</td>\n",
       "    </tr>\n",
       "    <tr>\n",
       "      <th>1</th>\n",
       "      <td>0.21</td>\n",
       "      <td>Premium</td>\n",
       "      <td>E</td>\n",
       "      <td>SI1</td>\n",
       "      <td>59.8</td>\n",
       "      <td>61.0</td>\n",
       "      <td>326</td>\n",
       "      <td>3.89</td>\n",
       "      <td>3.84</td>\n",
       "      <td>2.31</td>\n",
       "      <td>3.0</td>\n",
       "      <td>3</td>\n",
       "    </tr>\n",
       "    <tr>\n",
       "      <th>2</th>\n",
       "      <td>0.23</td>\n",
       "      <td>Good</td>\n",
       "      <td>E</td>\n",
       "      <td>VS1</td>\n",
       "      <td>56.9</td>\n",
       "      <td>65.0</td>\n",
       "      <td>327</td>\n",
       "      <td>4.05</td>\n",
       "      <td>4.07</td>\n",
       "      <td>2.31</td>\n",
       "      <td>1.0</td>\n",
       "      <td>1</td>\n",
       "    </tr>\n",
       "    <tr>\n",
       "      <th>3</th>\n",
       "      <td>0.29</td>\n",
       "      <td>Premium</td>\n",
       "      <td>I</td>\n",
       "      <td>VS2</td>\n",
       "      <td>62.4</td>\n",
       "      <td>58.0</td>\n",
       "      <td>334</td>\n",
       "      <td>4.20</td>\n",
       "      <td>4.23</td>\n",
       "      <td>2.63</td>\n",
       "      <td>3.0</td>\n",
       "      <td>3</td>\n",
       "    </tr>\n",
       "    <tr>\n",
       "      <th>4</th>\n",
       "      <td>0.31</td>\n",
       "      <td>Good</td>\n",
       "      <td>J</td>\n",
       "      <td>SI2</td>\n",
       "      <td>63.3</td>\n",
       "      <td>58.0</td>\n",
       "      <td>335</td>\n",
       "      <td>4.34</td>\n",
       "      <td>4.35</td>\n",
       "      <td>2.75</td>\n",
       "      <td>1.0</td>\n",
       "      <td>1</td>\n",
       "    </tr>\n",
       "    <tr>\n",
       "      <th>5</th>\n",
       "      <td>0.24</td>\n",
       "      <td>Very Good</td>\n",
       "      <td>J</td>\n",
       "      <td>VVS2</td>\n",
       "      <td>62.8</td>\n",
       "      <td>57.0</td>\n",
       "      <td>336</td>\n",
       "      <td>3.94</td>\n",
       "      <td>3.96</td>\n",
       "      <td>2.48</td>\n",
       "      <td>4.0</td>\n",
       "      <td>4</td>\n",
       "    </tr>\n",
       "    <tr>\n",
       "      <th>6</th>\n",
       "      <td>0.24</td>\n",
       "      <td>Very Good</td>\n",
       "      <td>I</td>\n",
       "      <td>VVS1</td>\n",
       "      <td>62.3</td>\n",
       "      <td>57.0</td>\n",
       "      <td>336</td>\n",
       "      <td>3.95</td>\n",
       "      <td>3.98</td>\n",
       "      <td>2.47</td>\n",
       "      <td>4.0</td>\n",
       "      <td>4</td>\n",
       "    </tr>\n",
       "    <tr>\n",
       "      <th>7</th>\n",
       "      <td>0.26</td>\n",
       "      <td>Very Good</td>\n",
       "      <td>H</td>\n",
       "      <td>SI1</td>\n",
       "      <td>61.9</td>\n",
       "      <td>55.0</td>\n",
       "      <td>337</td>\n",
       "      <td>4.07</td>\n",
       "      <td>4.11</td>\n",
       "      <td>2.53</td>\n",
       "      <td>4.0</td>\n",
       "      <td>4</td>\n",
       "    </tr>\n",
       "    <tr>\n",
       "      <th>8</th>\n",
       "      <td>0.22</td>\n",
       "      <td>Fair</td>\n",
       "      <td>E</td>\n",
       "      <td>VS2</td>\n",
       "      <td>65.1</td>\n",
       "      <td>61.0</td>\n",
       "      <td>337</td>\n",
       "      <td>3.87</td>\n",
       "      <td>3.78</td>\n",
       "      <td>2.49</td>\n",
       "      <td>0.0</td>\n",
       "      <td>0</td>\n",
       "    </tr>\n",
       "    <tr>\n",
       "      <th>9</th>\n",
       "      <td>0.23</td>\n",
       "      <td>Very Good</td>\n",
       "      <td>H</td>\n",
       "      <td>VS1</td>\n",
       "      <td>59.4</td>\n",
       "      <td>61.0</td>\n",
       "      <td>338</td>\n",
       "      <td>4.00</td>\n",
       "      <td>4.05</td>\n",
       "      <td>2.39</td>\n",
       "      <td>4.0</td>\n",
       "      <td>4</td>\n",
       "    </tr>\n",
       "  </tbody>\n",
       "</table>\n",
       "</div>"
      ],
      "text/plain": [
       "   carat        cut color clarity  depth  table  price     x     y     z  \\\n",
       "0   0.23      Ideal     E     SI2   61.5   55.0    326  3.95  3.98  2.43   \n",
       "1   0.21    Premium     E     SI1   59.8   61.0    326  3.89  3.84  2.31   \n",
       "2   0.23       Good     E     VS1   56.9   65.0    327  4.05  4.07  2.31   \n",
       "3   0.29    Premium     I     VS2   62.4   58.0    334  4.20  4.23  2.63   \n",
       "4   0.31       Good     J     SI2   63.3   58.0    335  4.34  4.35  2.75   \n",
       "5   0.24  Very Good     J    VVS2   62.8   57.0    336  3.94  3.96  2.48   \n",
       "6   0.24  Very Good     I    VVS1   62.3   57.0    336  3.95  3.98  2.47   \n",
       "7   0.26  Very Good     H     SI1   61.9   55.0    337  4.07  4.11  2.53   \n",
       "8   0.22       Fair     E     VS2   65.1   61.0    337  3.87  3.78  2.49   \n",
       "9   0.23  Very Good     H     VS1   59.4   61.0    338  4.00  4.05  2.39   \n",
       "\n",
       "   cut_ord  cut_enc  \n",
       "0      2.0        2  \n",
       "1      3.0        3  \n",
       "2      1.0        1  \n",
       "3      3.0        3  \n",
       "4      1.0        1  \n",
       "5      4.0        4  \n",
       "6      4.0        4  \n",
       "7      4.0        4  \n",
       "8      0.0        0  \n",
       "9      4.0        4  "
      ]
     },
     "execution_count": 29,
     "metadata": {},
     "output_type": "execute_result"
    }
   ],
   "source": [
    "## Label encoding is used to encode the target variables\n",
    " \n",
    "from sklearn.preprocessing import LabelEncoder\n",
    "data['cut_enc'] = LabelEncoder().fit_transform(data['cut'])\n",
    "data.head(10)"
   ]
  },
  {
   "cell_type": "markdown",
   "metadata": {
    "id": "SuHy9z9tQ-yR"
   },
   "source": [
    "Label encoding <u>does not expand the feature space</u> at all as we just replace category names with numbers. Here, we do not use dummy variables.\n",
    "\n",
    "The major disadvantage of label encoding is that machine learning algorithms may consider there may be relationships between the encoded categories. \n",
    "\n",
    "For example, an algorithm may interpret Premium (2) as two times better than Good (1). Actually, there is no such relationship between the categories.\n",
    "To avoid this, <b><u>label encoding should only be applied to target (y) values, not to input (X) values</b></u>.\n",
    "\n",
    "Label encoding can be applied by using Scikit-learn’s LabelEncoder function. Now, we apply it to the <b>Gender</b> variable in the below dataset. \n"
   ]
  },
  {
   "cell_type": "code",
   "execution_count": 30,
   "metadata": {
    "ExecuteTime": {
     "end_time": "2022-04-15T03:15:13.233481Z",
     "start_time": "2022-04-15T03:15:13.222332Z"
    }
   },
   "outputs": [
    {
     "name": "stdout",
     "output_type": "stream",
     "text": [
      "Original Data frame:\n",
      "\n",
      "  Gender    NAME\n",
      "0      M    John\n",
      "1      F  Camili\n",
      "2      F  Rheana\n",
      "3      M  Joseph\n",
      "4      F  Amanti\n",
      "5      F   Alexa\n",
      "6      F    Siri\n"
     ]
    }
   ],
   "source": [
    "import pandas as pd \n",
    "data = {\"Gender\":['M','F','F','M','F','F','F'], \"NAME\":['John','Camili','Rheana','Joseph','Amanti','Alexa','Siri']}\n",
    "data = pd.DataFrame(data)\n",
    "print(\"Original Data frame:\\n\")\n",
    "print(data)"
   ]
  },
  {
   "cell_type": "code",
   "execution_count": 31,
   "metadata": {
    "ExecuteTime": {
     "end_time": "2022-04-15T03:15:13.240869Z",
     "start_time": "2022-04-15T03:15:13.235854Z"
    }
   },
   "outputs": [
    {
     "name": "stdout",
     "output_type": "stream",
     "text": [
      "[1 0]\n"
     ]
    }
   ],
   "source": [
    "from sklearn import preprocessing \n",
    "label = preprocessing.LabelEncoder() \n",
    " \n",
    "data['Gender']= label.fit_transform(data['Gender']) \n",
    "print(data['Gender'].unique())"
   ]
  },
  {
   "cell_type": "code",
   "execution_count": 32,
   "metadata": {
    "ExecuteTime": {
     "end_time": "2022-04-15T03:15:13.253523Z",
     "start_time": "2022-04-15T03:15:13.246546Z"
    }
   },
   "outputs": [
    {
     "name": "stdout",
     "output_type": "stream",
     "text": [
      "   Gender    NAME\n",
      "0       1    John\n",
      "1       0  Camili\n",
      "2       0  Rheana\n",
      "3       1  Joseph\n",
      "4       0  Amanti\n",
      "5       0   Alexa\n",
      "6       0    Siri\n"
     ]
    }
   ],
   "source": [
    "print(data)"
   ]
  }
 ],
 "metadata": {
  "colab": {
   "authorship_tag": "ABX9TyPxOZiA4AFQI8QB9uoGt6mI",
   "collapsed_sections": [],
   "include_colab_link": true,
   "mount_file_id": "1a1pQopqp026cqVO15uOv7ZcDziC-LHu-",
   "name": "Encoding.ipynb",
   "provenance": []
  },
  "kernelspec": {
   "display_name": "Python 3 (ipykernel)",
   "language": "python",
   "name": "python3"
  },
  "language_info": {
   "codemirror_mode": {
    "name": "ipython",
    "version": 3
   },
   "file_extension": ".py",
   "mimetype": "text/x-python",
   "name": "python",
   "nbconvert_exporter": "python",
   "pygments_lexer": "ipython3",
   "version": "3.9.12"
  },
  "latex_envs": {
   "LaTeX_envs_menu_present": true,
   "autoclose": false,
   "autocomplete": true,
   "bibliofile": "biblio.bib",
   "cite_by": "apalike",
   "current_citInitial": 1,
   "eqLabelWithNumbers": true,
   "eqNumInitial": 1,
   "hotkeys": {
    "equation": "Ctrl-E",
    "itemize": "Ctrl-I"
   },
   "labels_anchors": false,
   "latex_user_defs": false,
   "report_style_numbering": false,
   "user_envs_cfg": false
  },
  "toc": {
   "base_numbering": 1,
   "nav_menu": {},
   "number_sections": true,
   "sideBar": true,
   "skip_h1_title": false,
   "title_cell": "Table of Contents",
   "title_sidebar": "Contents",
   "toc_cell": false,
   "toc_position": {
    "height": "calc(100% - 180px)",
    "left": "10px",
    "top": "150px",
    "width": "274.75px"
   },
   "toc_section_display": true,
   "toc_window_display": true
  },
  "varInspector": {
   "cols": {
    "lenName": 16,
    "lenType": 16,
    "lenVar": 40
   },
   "kernels_config": {
    "python": {
     "delete_cmd_postfix": "",
     "delete_cmd_prefix": "del ",
     "library": "var_list.py",
     "varRefreshCmd": "print(var_dic_list())"
    },
    "r": {
     "delete_cmd_postfix": ") ",
     "delete_cmd_prefix": "rm(",
     "library": "var_list.r",
     "varRefreshCmd": "cat(var_dic_list()) "
    }
   },
   "types_to_exclude": [
    "module",
    "function",
    "builtin_function_or_method",
    "instance",
    "_Feature"
   ],
   "window_display": false
  }
 },
 "nbformat": 4,
 "nbformat_minor": 1
}
