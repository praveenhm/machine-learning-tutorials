{
 "cells": [
  {
   "cell_type": "markdown",
   "metadata": {},
   "source": [
    "### IMPORTING THE NECESSARY LIBRARIES"
   ]
  },
  {
   "cell_type": "code",
   "execution_count": 1,
   "metadata": {
    "ExecuteTime": {
     "end_time": "2021-11-12T21:44:42.152417Z",
     "start_time": "2021-11-12T21:44:40.767995Z"
    }
   },
   "outputs": [],
   "source": [
    "# Starting with the standard imports\n",
    "import numpy as np\n",
    "import pandas as pd\n",
    "import pandas_profiling\n",
    "\n",
    "\n",
    "# Preprocessing data\n",
    "from sklearn.model_selection import train_test_split     # data-splitter\n",
    "from sklearn.preprocessing import StandardScaler         # data-normalization\n",
    "from sklearn.preprocessing import PolynomialFeatures     # for polynomials\n",
    "from sklearn.preprocessing import PowerTransformer       # for power-transformations\n",
    "from sklearn.pipeline import make_pipeline               # for pipelines\n",
    "np.random.seed (42)                                      # for reproducible results\n",
    "\n",
    "#\n",
    "# Modeling and Metrics\n",
    "# \n",
    "# --For Regressor\n",
    "from sklearn.dummy import DummyRegressor                 # baseline regressor (null-hypothesis)\n",
    "from sklearn.linear_model import LinearRegression        # linear regression\n",
    "from sklearn.linear_model import ( Ridge, \n",
    "                                  Lasso, \n",
    "                                  ElasticNet,\n",
    "                                 RidgeCV, \n",
    "                                 LassoCV,\n",
    "                                 ElasticNetCV)           # regularized regressions with CV\n",
    "from sklearn.metrics import mean_squared_error, r2_score # model-metrics\n",
    "from sklearn.ensemble import RandomForestRegressor\n",
    "\n",
    "#\n",
    "# For Classifiers\n",
    "from sklearn.linear_model import LogisticRegression\n",
    "from sklearn.metrics import confusion_matrix\n",
    "from sklearn.metrics import classification_report\n",
    "from sklearn.metrics import roc_curve\n",
    "from sklearn.metrics import roc_auc_score\n",
    "from sklearn.discriminant_analysis import LinearDiscriminantAnalysis\n",
    "from sklearn.discriminant_analysis import QuadraticDiscriminantAnalysis\n",
    "from sklearn.dummy import (DummyClassifier, DummyRegressor)\n",
    "\n",
    "#\n",
    "# For clusterers\n",
    "from scipy import stats, integrate\n",
    "import sklearn.cluster as cluster\n",
    "from sklearn.cluster import (DBSCAN, KMeans)\n",
    "from sklearn import metrics\n",
    "from sklearn.datasets import make_blobs\n",
    "\n",
    "# Yellowbrick\n",
    "from yellowbrick.features import FeatureImportances\n",
    "from yellowbrick.classifier import ConfusionMatrix, ClassificationReport, ROCAUC\n",
    "\n",
    "\n",
    "from matplotlib import colors\n",
    "import seaborn as sns\n",
    "list_of_cmaps=['Blues','Greens','Reds','Purples']   # some colors to use\n",
    "\n",
    "# Now the Graphical libraries imports and settings\n",
    "%matplotlib inline\n",
    "import matplotlib.pyplot as plt                          # for plotting\n",
    "import seaborn as sns                                    # nicer looking plots\n",
    "import altair as alt                                     # for interactive plots\n",
    "from matplotlib import colors                            # for web-color specs\n",
    "pd.set_option('plotting.backend', 'matplotlib')          # pandas_bokeh, plotly, etc       \n",
    "plt.rcParams[ 'figure.figsize' ] = '20,10'               # landscape format figures\n",
    "plt.rcParams[ 'legend.fontsize' ] = 13                   # legend font size\n",
    "plt.rcParams[ 'axes.labelsize' ] = 13                    # axis label font size\n",
    "plt.rcParams['figure.dpi'] = 144                         # high-dpi monitors support\n",
    "plt.style.use ('ggplot')                                 # emulate ggplot style\n",
    "\n",
    "# For latex-quality, i.e., publication quality legends and labels on graphs.\n",
    "# Warning: you must have installed LaTeX on your system.\n",
    "from matplotlib import rc\n",
    "rc ('font', family='serif')\n",
    "rc ('text', usetex=True) # Enable it selectively \n",
    "rc ('font', size=16)\n",
    "\n",
    "# For youtube video display\n",
    "from IPython.display import YouTubeVideo\n",
    "\n",
    "import warnings\n",
    "warnings.filterwarnings ('ignore')  # suppress warning"
   ]
  },
  {
   "cell_type": "code",
   "execution_count": 2,
   "metadata": {
    "ExecuteTime": {
     "end_time": "2021-10-16T00:30:00.122880Z",
     "start_time": "2021-10-16T00:30:00.114869Z"
    }
   },
   "outputs": [],
   "source": [
    "def sv_table_styles():\n",
    "\n",
    "    th_props = [\n",
    "      ('font-size', '11pt'),\n",
    "        ('font-family', 'sans'),\n",
    "      ('text-align', 'center'),\n",
    "      ('font-weight', '300'),\n",
    "      ('color', 'cornsilk'),\n",
    "      ('background-color', 'salmon')\n",
    "      ]\n",
    "    # Set CSS properties for td elements in dataframe\n",
    "    td_props = [\n",
    "      ('font-size', '10px'),\n",
    "      #('color', 'cornsilk'),\n",
    "        ('font-weight', 'normal')\n",
    "      ]\n",
    "\n",
    "    # Currently, could not make this work!\n",
    "    first_col_props = [\n",
    "        ('background-color', 'cornsilk'),\n",
    "        ('color', 'black'),\n",
    "        ('font-weight', '300'),\n",
    "    ]\n",
    "\n",
    "    # Set table styles\n",
    "    styles = [\n",
    "      dict(selector=\"th\", props=th_props),\n",
    "      dict(selector=\"td\", props=td_props),\n",
    "      dict(selection=\"tr td:first-child()\", props=first_col_props)\n",
    "      ]\n",
    "\n",
    "    return styles\n"
   ]
  },
  {
   "cell_type": "code",
   "execution_count": 3,
   "metadata": {},
   "outputs": [],
   "source": [
    "#\n",
    "# Rotate Pandas dataframe column headers.\n",
    "# Taken from:\n",
    "# https://stackoverflow.com/questions/46715736/rotating-the-column-name-for-a-panda-dataframe\n",
    "#\n",
    "def format_vertical_headers(df):\n",
    "    \"\"\"Display a dataframe with vertical column headers\"\"\"\n",
    "    styles = [\n",
    "        dict(selector=\"th\", props=[('width', '40px')]),\n",
    "              dict(selector=\"th.col_heading\",\n",
    "                   props=[(\"writing-mode\", \"vertical-rl\"),\n",
    "                          ('transform', 'rotateZ(180deg)'), \n",
    "                          ('height', '160px'),\n",
    "                          ('vertical-align', 'top')])]\n",
    "    return (df.fillna('').style.set_table_styles(styles))"
   ]
  }
 ],
 "metadata": {
  "hide_input": false,
  "kernelspec": {
   "display_name": "Python 3 (ipykernel)",
   "language": "python",
   "name": "python3"
  },
  "language_info": {
   "codemirror_mode": {
    "name": "ipython",
    "version": 3
   },
   "file_extension": ".py",
   "mimetype": "text/x-python",
   "name": "python",
   "nbconvert_exporter": "python",
   "pygments_lexer": "ipython3",
   "version": "3.9.12"
  },
  "latex_envs": {
   "LaTeX_envs_menu_present": true,
   "autoclose": false,
   "autocomplete": true,
   "bibliofile": "biblio.bib",
   "cite_by": "apalike",
   "current_citInitial": 1,
   "eqLabelWithNumbers": true,
   "eqNumInitial": 1,
   "hotkeys": {
    "equation": "Ctrl-E",
    "itemize": "Ctrl-I"
   },
   "labels_anchors": false,
   "latex_user_defs": false,
   "report_style_numbering": false,
   "user_envs_cfg": false
  },
  "nbTranslate": {
   "displayLangs": [
    "*"
   ],
   "hotkey": "alt-t",
   "langInMainMenu": true,
   "sourceLang": "en",
   "targetLang": "fr",
   "useGoogleTranslate": true
  },
  "toc": {
   "base_numbering": 1,
   "nav_menu": {},
   "number_sections": true,
   "sideBar": true,
   "skip_h1_title": false,
   "title_cell": "Table of Contents",
   "title_sidebar": "Contents",
   "toc_cell": false,
   "toc_position": {},
   "toc_section_display": true,
   "toc_window_display": false
  },
  "varInspector": {
   "cols": {
    "lenName": 16,
    "lenType": 16,
    "lenVar": 40
   },
   "kernels_config": {
    "python": {
     "delete_cmd_postfix": "",
     "delete_cmd_prefix": "del ",
     "library": "var_list.py",
     "varRefreshCmd": "print(var_dic_list())"
    },
    "r": {
     "delete_cmd_postfix": ") ",
     "delete_cmd_prefix": "rm(",
     "library": "var_list.r",
     "varRefreshCmd": "cat(var_dic_list()) "
    }
   },
   "types_to_exclude": [
    "module",
    "function",
    "builtin_function_or_method",
    "instance",
    "_Feature"
   ],
   "window_display": false
  }
 },
 "nbformat": 4,
 "nbformat_minor": 4
}
