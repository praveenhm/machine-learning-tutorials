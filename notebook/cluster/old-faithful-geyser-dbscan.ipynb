{
 "cells": [
  {
   "cell_type": "code",
   "execution_count": null,
   "metadata": {
    "ExecuteTime": {
     "end_time": "2021-11-13T04:33:19.531932Z",
     "start_time": "2021-11-13T04:33:17.931365Z"
    },
    "cell_style": "center",
    "hide_input": true,
    "scrolled": false,
    "slideshow": {
     "slide_type": "skip"
    }
   },
   "outputs": [
    {
     "data": {
      "text/html": [
       "\n",
       "<link href=\"https://fonts.googleapis.com/css?family=Lora:400,700|Montserrat:300\" rel=\"stylesheet\">\n",
       "\n",
       "<link href=\"https://fonts.googleapis.com/css2?family=Crimson+Pro&family=Literata&display=swap\" rel=\"stylesheet\">\n",
       "<style>\n",
       "\n",
       "\n",
       "#ipython_notebook::before{\n",
       " content:\"Machine Learning\";\n",
       "        color: white;\n",
       "        font-weight: bold;\n",
       "        text-transform: uppercase;\n",
       "        font-family: 'Lora',serif;\n",
       "        font-size:16pt;\n",
       "        margin-bottom:10px;\n",
       "           \n",
       "}\n",
       "body > #header {\n",
       "    background: maroon;\n",
       "        opacity: 0.7;\n",
       "}\n",
       "\n",
       "\n",
       ".navbar-default .navbar-nav > li > a, #kernel_indicator {\n",
       "    color: white;\n",
       "    transition: all 0.25s;\n",
       "    font-size:12pt;\n",
       "    font-family: sans;\n",
       "    /*font-weight:bold;*/\n",
       "}\n",
       ".navbar-default {\n",
       "    padding-left:100px;\n",
       "    background: none;\n",
       "    border: none;\n",
       "}\n",
       "\n",
       "\n",
       "body > menubar-container {\n",
       "    background-color: wheat;\n",
       "}\n",
       "#ipython_notebook img{                                                                                        \n",
       "    display:block; \n",
       "    \n",
       "    background: url(\"\") no-repeat;\n",
       "    background-size: contain;\n",
       "   \n",
       "    padding-left: 500px;\n",
       "    padding-right: 100px;\n",
       "    \n",
       "    -moz-box-sizing: border-box;\n",
       "    box-sizing: border-box;\n",
       "}\n",
       "\n",
       "\n",
       "\n",
       "body {\n",
       " #font-family:  'Literata', serif;\n",
       "    font-family:'Lora', san-serif;\n",
       "    text-align: justify;\n",
       "    font-weight: 400;\n",
       "    font-size: 13pt;\n",
       "}\n",
       "\n",
       "iframe{\n",
       "    width:100%;\n",
       "    min-height:600px;\n",
       "}\n",
       "\n",
       "h1, h2, h3, h4, h5, h6 {\n",
       "# font-family: 'Montserrat', sans-serif;\n",
       " font-family:'Lora', serif;\n",
       " font-weight: 200;\n",
       " text-transform: uppercase;\n",
       " color: #EC7063 ;\n",
       "}\n",
       "\n",
       "h2 {\n",
       "    color: #000080;\n",
       "}\n",
       "\n",
       ".checkpoint_status, .autosave_status {\n",
       "    color:wheat;\n",
       "}\n",
       "\n",
       "#notebook_name {\n",
       "    font-weight: 1000;\n",
       "    font-size:20pt;\n",
       "    text-variant:uppercase;\n",
       "    color: wheat; \n",
       "    margin-right:10px;\n",
       "}\n",
       "#notebook_name:hover {\n",
       "background-color: salmon;\n",
       "}\n",
       "\n",
       "\n",
       ".dataframe { /* dataframe atau table */\n",
       "    background: white;\n",
       "    box-shadow: 0px 1px 2px #bbb;\n",
       "}\n",
       ".dataframe thead th, .dataframe tbody td {\n",
       "    text-align: center;\n",
       "    padding: 1em;\n",
       "}\n",
       "\n",
       ".checkpoint_status, .autosave_status {\n",
       "    color:wheat;\n",
       "}\n",
       "\n",
       ".output {\n",
       "    align-items: center;\n",
       "}\n",
       "\n",
       "div.cell {\n",
       "    transition: all 0.25s;\n",
       "    border: none;\n",
       "    position: relative;\n",
       "    top: 0;\n",
       "}\n",
       "div.cell.selected, div.cell.selected.jupyter-soft-selected {\n",
       "    border: none;\n",
       "    background: transparent;\n",
       "    box-shadow: 0 6px 18px #aaa;\n",
       "    z-index: 10;\n",
       "    top: -10px;\n",
       "}\n",
       ".CodeMirror pre, .CodeMirror-dialog, .CodeMirror-dialog .CodeMirror-search-field, .terminal-app .terminal {\n",
       "    font-family: 'Source Code Pro Medium' , serif; \n",
       "    font-weight: 500;\n",
       "    font-size: 13pt;\n",
       "}\n",
       "\n",
       "\n",
       "\n",
       "</style>    \n"
      ],
      "text/plain": [
       "<IPython.core.display.HTML object>"
      ]
     },
     "metadata": {},
     "output_type": "display_data"
    }
   ],
   "source": [
    "%run ../common-imports.ipynb"
   ]
  },
  {
   "cell_type": "markdown",
   "metadata": {
    "hide_input": true,
    "slideshow": {
     "slide_type": "slide"
    }
   },
   "source": [
    "#  Old faithful geyser: DBScan\n",
    "\n"
   ]
  },
  {
   "cell_type": "code",
   "execution_count": null,
   "metadata": {
    "ExecuteTime": {
     "end_time": "2021-11-13T04:33:19.852833Z",
     "start_time": "2021-11-13T04:33:19.533613Z"
    },
    "slideshow": {
     "slide_type": "fragment"
    }
   },
   "outputs": [],
   "source": [
    "source = '../datasets/old-faithful-geyser.csv'\n",
    "raw_data = pd.read_csv(source, sep='\\t')\n",
    "scaler = StandardScaler()\n",
    "scaled = scaler.fit_transform(raw_data)\n",
    "data = pd.DataFrame(data={'eruptions':scaled[:, 0], 'waiting': scaled[:,1]})\n",
    "data.describe(include=\"all\").transpose().style.set_table_styles(sv_table_styles())"
   ]
  },
  {
   "cell_type": "markdown",
   "metadata": {
    "slideshow": {
     "slide_type": "slide"
    }
   },
   "source": [
    "**Sample rows**"
   ]
  },
  {
   "cell_type": "markdown",
   "metadata": {
    "slideshow": {
     "slide_type": "slide"
    }
   },
   "source": [
    "## Data Visualization\n",
    "\n",
    "To whet our recollection of the key data exploration findings, let us mention some of the plots of the dataset.\n",
    "\n",
    "Let us first visualize a scatter plot of the data and look at the histogram of the features. Finally, let us pull of this together with a kernel density plot, into a single plot with subplots."
   ]
  },
  {
   "cell_type": "code",
   "execution_count": null,
   "metadata": {
    "ExecuteTime": {
     "end_time": "2021-11-13T04:33:21.635009Z",
     "start_time": "2021-11-13T04:33:19.854632Z"
    },
    "cell_style": "split",
    "hide_input": true,
    "slideshow": {
     "slide_type": "slide"
    }
   },
   "outputs": [],
   "source": [
    "plt.scatter(data['eruptions'], data['waiting'], alpha=0.5, s=250, color='salmon')\n",
    "plt.title(r'\\textbf{Scatter-plot of $waiting$ vs $eruptions$}')\n",
    "plt.xlabel(r'eruptions $\\longrightarrow$');\n",
    "plt.ylabel(r'waiting $\\longrightarrow$');\n",
    "plt.show();\n",
    "data.hist(bins=50, alpha = 0.4, color='salmon', xrot=90, figsize=(10,5));\n",
    "plt.tight_layout()"
   ]
  },
  {
   "cell_type": "code",
   "execution_count": null,
   "metadata": {
    "ExecuteTime": {
     "end_time": "2021-11-13T04:33:22.931291Z",
     "start_time": "2021-11-13T04:33:21.636358Z"
    },
    "cell_style": "split",
    "hide_input": true,
    "scrolled": false,
    "slideshow": {
     "slide_type": "slide"
    }
   },
   "outputs": [],
   "source": [
    "sns.set_palette(\"Reds\")\n",
    "\n",
    "sample = data\n",
    "g = sns.pairplot(sample, diag_kind='kde', \n",
    "                   plot_kws = { 'alpha': 0.20, 's': 80, 'edgecolor': 'k', 'color':'salmon'}, \n",
    "                   size=5, );\n",
    "g.map_diag(sns.kdeplot, color='salmon',  shade=True);\n",
    "g.map_upper(plt.scatter, color='salmon', alpha=0.5);\n",
    "g.map_lower(sns.kdeplot, shade=False, shade_lowest=False, cbar=True);\n",
    "\n",
    "plt.tight_layout()"
   ]
  },
  {
   "cell_type": "markdown",
   "metadata": {},
   "source": [
    "## DBSCAN\n",
    "\n",
    "Let us now cluster this data for various values of the hyper-parameters: $\\epsilon, nPts$ (the neighborhood radius, and the number of neighbors needed for a point to qualify as an interior point)."
   ]
  },
  {
   "cell_type": "code",
   "execution_count": null,
   "metadata": {
    "ExecuteTime": {
     "end_time": "2021-11-13T05:18:18.164963Z",
     "start_time": "2021-11-13T05:18:18.127968Z"
    }
   },
   "outputs": [],
   "source": [
    "%run dbscan_common.ipynb"
   ]
  },
  {
   "cell_type": "code",
   "execution_count": null,
   "metadata": {
    "ExecuteTime": {
     "end_time": "2021-11-13T05:18:21.011180Z",
     "start_time": "2021-11-13T05:18:18.760948Z"
    },
    "scrolled": false
   },
   "outputs": [],
   "source": [
    "# Different values of the hyperparameters\n",
    "epsilons = [0.1, 0.2, 0.4, 0.6]\n",
    "neighbors = [3, 5, 7]\n",
    "\n",
    "quality = dbscan_cluster(epsilons=epsilons, neighbors=neighbors, data=data)"
   ]
  },
  {
   "cell_type": "markdown",
   "metadata": {
    "ExecuteTime": {
     "end_time": "2021-11-13T05:19:32.008170Z",
     "start_time": "2021-11-13T05:19:32.002954Z"
    }
   },
   "source": [
    "In the above plots, the outliers are marked in grey.\n",
    "\n",
    "We observe that the clustering is markedly different for different values of the hyperparameters. **Which of these clusters would you consider optimal?**\n",
    "\n",
    "### Clustering quality metrics\n",
    "Let us now observe the clustering quality metrics, and see how it agrees with your intuition."
   ]
  },
  {
   "cell_type": "code",
   "execution_count": null,
   "metadata": {
    "ExecuteTime": {
     "end_time": "2021-11-13T04:33:50.817516Z",
     "start_time": "2021-11-13T04:33:50.801721Z"
    }
   },
   "outputs": [],
   "source": [
    "quality.style.highlight_max(color = 'lightgreen', axis = 0, subset =['silhouette score'])"
   ]
  },
  {
   "cell_type": "markdown",
   "metadata": {},
   "source": [
    "### Conclusion\n",
    "\n",
    "Inspecting the clustering plots, and the silhouette score table, it is apparent that we get the best clustering for the hyperparameter values:\n",
    "* $\\epsilon = 0.4, nPts = 3$\n",
    "* $\\epsilon = 0.4, nPts = 5$\n"
   ]
  },
  {
   "cell_type": "markdown",
   "metadata": {},
   "source": [
    "The scree-plot confirms that the optimal number of clusters is $k=2$, i.e. two clusters as we saw visually in the plot-grid of the previous section."
   ]
  }
 ],
 "metadata": {
  "hide_input": false,
  "kernelspec": {
   "display_name": "Python 3 (ipykernel)",
   "language": "python",
   "name": "python3"
  },
  "language_info": {
   "codemirror_mode": {
    "name": "ipython",
    "version": 3
   },
   "file_extension": ".py",
   "mimetype": "text/x-python",
   "name": "python",
   "nbconvert_exporter": "python",
   "pygments_lexer": "ipython3",
   "version": "3.8.8"
  },
  "toc": {
   "base_numbering": 1,
   "nav_menu": {},
   "number_sections": true,
   "sideBar": true,
   "skip_h1_title": false,
   "title_cell": "Table of Contents",
   "title_sidebar": "Contents",
   "toc_cell": false,
   "toc_position": {
    "height": "calc(100% - 180px)",
    "left": "10px",
    "top": "150px",
    "width": "448px"
   },
   "toc_section_display": true,
   "toc_window_display": false
  },
  "varInspector": {
   "cols": {
    "lenName": 16,
    "lenType": 16,
    "lenVar": 40
   },
   "kernels_config": {
    "python": {
     "delete_cmd_postfix": "",
     "delete_cmd_prefix": "del ",
     "library": "var_list.py",
     "varRefreshCmd": "print(var_dic_list())"
    },
    "r": {
     "delete_cmd_postfix": ") ",
     "delete_cmd_prefix": "rm(",
     "library": "var_list.r",
     "varRefreshCmd": "cat(var_dic_list()) "
    }
   },
   "types_to_exclude": [
    "module",
    "function",
    "builtin_function_or_method",
    "instance",
    "_Feature"
   ],
   "window_display": false
  }
 },
 "nbformat": 4,
 "nbformat_minor": 4
}
