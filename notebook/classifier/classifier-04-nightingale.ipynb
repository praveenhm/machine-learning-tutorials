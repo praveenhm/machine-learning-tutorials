{
 "cells": [
  {
   "cell_type": "code",
   "execution_count": null,
   "metadata": {
    "ExecuteTime": {
     "end_time": "2021-10-26T04:29:47.368578Z",
     "start_time": "2021-10-26T04:29:45.771554Z"
    }
   },
   "outputs": [],
   "source": [
    "%run ../common-imports.ipynb"
   ]
  },
  {
   "cell_type": "markdown",
   "metadata": {},
   "source": [
    "# FLORENCE  NIGHTINGALE"
   ]
  },
  {
   "cell_type": "markdown",
   "metadata": {},
   "source": [
    "\n",
    "\n",
    "<img src=\"https://upload.wikimedia.org/wikipedia/commons/b/ba/Florence_Nightingale._Coloured_lithograph._Wellcome_V0006579.jpg\" width=\"50%\" align=\"left\" style=\"padding-right:40px\"/>\n",
    "\n",
    "Florence Nightingale, the lady with the lamp, was not only a per-\n",
    "son of extraordinary compassion and commitment, a polyglot and\n",
    "polymath, but also what we would today call a data-scientist of the\n",
    "highest order, and a pioneer in data-visualization. She was an avid\n",
    "and meticulous gatherer and explorer of data. In the Crimean war\n",
    "that started in 1853 where she was administering to the nursing\n",
    "of British soldiers, she observed that far more soldiers died from\n",
    "malnutrition, and the primitive and unsanitary nursing conditions\n",
    "in the hospitals than from the actual battles. She conveyed this\n",
    "persuasively through a series of revolutionary visualizations, like\n",
    "the pair of roses; these more than merely depicted the astonishing\n",
    "aspects of war mortality – they were also prescriptive of the reforms\n",
    "that must follow to ameliorate the situation.\n",
    "Needless to say, her insights led to perhaps the one of the greatest\n",
    "reform in medical science, and the birth of modern, sanitary nursing\n",
    "practices.\n",
    "\n",
    "Let us begin, therefore, our journey into data-science with an\n",
    "exploration of the Nightingale dataset. \n",
    "\n",
    "**GOALS**\n",
    "\n",
    "* Become familiar with Nightingale's mortality data from the Crimean war, \n",
    "which had such a profound impact.\n",
    "* Learn to create complex visualizations.\n",
    "\n",
    "The contemporary view in data visualization is this *two roses* visualization\n",
    "is perhaps not the simplest way to show this data; for example, the bar chart\n",
    "conveys the proportions more easily.\n",
    "\n",
    "\n",
    "\n",
    "<break/>\n",
    "\n"
   ]
  },
  {
   "cell_type": "code",
   "execution_count": null,
   "metadata": {
    "ExecuteTime": {
     "end_time": "2021-10-26T04:29:47.491337Z",
     "start_time": "2021-10-26T04:29:47.370042Z"
    }
   },
   "outputs": [],
   "source": [
    "data = pd.read_csv(\"../../datasets/Nightingale.csv\")"
   ]
  },
  {
   "cell_type": "markdown",
   "metadata": {
    "ExecuteTime": {
     "end_time": "2021-09-25T07:46:39.989201Z",
     "start_time": "2021-09-25T07:46:39.984976Z"
    }
   },
   "source": [
    "#### Descriptive statistics\n"
   ]
  },
  {
   "cell_type": "code",
   "execution_count": null,
   "metadata": {
    "ExecuteTime": {
     "end_time": "2021-10-26T04:29:47.535849Z",
     "start_time": "2021-10-26T04:29:47.493698Z"
    }
   },
   "outputs": [],
   "source": [
    "data.describe(include=\"all\").transpose()"
   ]
  },
  {
   "cell_type": "markdown",
   "metadata": {},
   "source": [
    "Let us drop some columns we will ignore for this analysis."
   ]
  },
  {
   "cell_type": "code",
   "execution_count": null,
   "metadata": {
    "ExecuteTime": {
     "end_time": "2021-10-26T04:29:47.541003Z",
     "start_time": "2021-10-26T04:29:47.537444Z"
    }
   },
   "outputs": [],
   "source": [
    "data.drop(columns=['Unnamed: 0', 'Disease.rate', 'Wounds.rate', 'Other.rate'], inplace=True)"
   ]
  },
  {
   "cell_type": "markdown",
   "metadata": {},
   "source": [
    "This is a small dataset; let us pore over it in its entirety."
   ]
  },
  {
   "cell_type": "code",
   "execution_count": null,
   "metadata": {
    "ExecuteTime": {
     "end_time": "2021-10-26T04:29:47.559549Z",
     "start_time": "2021-10-26T04:29:47.543167Z"
    }
   },
   "outputs": [],
   "source": [
    "data"
   ]
  },
  {
   "cell_type": "markdown",
   "metadata": {},
   "source": [
    "#### Missing Values Analysis\n"
   ]
  },
  {
   "cell_type": "code",
   "execution_count": null,
   "metadata": {
    "ExecuteTime": {
     "end_time": "2021-10-26T04:29:47.568215Z",
     "start_time": "2021-10-26T04:29:47.561389Z"
    }
   },
   "outputs": [],
   "source": [
    "data.isnull().sum()"
   ]
  },
  {
   "cell_type": "markdown",
   "metadata": {},
   "source": [
    " From the above results, it appears that there are no missing values at all. Therefore, we don't need to worry about addressing this issue."
   ]
  },
  {
   "cell_type": "markdown",
   "metadata": {},
   "source": [
    "#### Pandas Profiling"
   ]
  },
  {
   "cell_type": "code",
   "execution_count": null,
   "metadata": {
    "ExecuteTime": {
     "end_time": "2021-10-26T04:29:47.574429Z",
     "start_time": "2021-10-26T04:29:47.570174Z"
    },
    "scrolled": false
   },
   "outputs": [],
   "source": [
    "# Caution, this requires the library, and needs TeX to be disabled. Run it by uncommenting.\n",
    "# data.profile_report()\n"
   ]
  },
  {
   "cell_type": "markdown",
   "metadata": {},
   "source": [
    "## Data Visualization\n",
    "\n",
    "Let us see how causes of mortality for each year compare to each other. For this we start with a simple bar-chart."
   ]
  },
  {
   "cell_type": "code",
   "execution_count": null,
   "metadata": {
    "ExecuteTime": {
     "end_time": "2021-10-26T04:29:48.778986Z",
     "start_time": "2021-10-26T04:29:47.576112Z"
    }
   },
   "outputs": [],
   "source": [
    "plt.figure(figsize=(20,10));\n",
    "data.plot.bar(x = 'Date', y=['Disease', 'Wounds', 'Other']);\n",
    "plt.title(r'\\textbf{Mortality data from the Crimean war}');\n",
    "plt.ylabel(r'Mortality');"
   ]
  },
  {
   "cell_type": "markdown",
   "metadata": {},
   "source": [
    "Clearly, far fewer people died of war wounds compared to disease arising from the unsanitary conditions of the camps during the Cremian war. This strongly moved Florence Nightingale (\"the angel of mercy\"), who would later on found the practice of modern nursing."
   ]
  },
  {
   "cell_type": "markdown",
   "metadata": {},
   "source": [
    "## Rose diagram\n",
    "\n",
    "\n",
    "\n",
    "Let us try to recreate a simplified version the celebrated *Two Roses Diagram* of Nightingale, \"Diagram of the causes of mortality in the army in the east\". \n",
    "\n",
    "<img src=\"https://upload.wikimedia.org/wikipedia/commons/thumb/1/17/Nightingale-mortality.jpg/1200px-Nightingale-mortality.jpg\" />\n",
    "\n",
    "We will plot out each of the two diagrams depicted above separately. "
   ]
  },
  {
   "cell_type": "code",
   "execution_count": null,
   "metadata": {
    "ExecuteTime": {
     "end_time": "2021-10-26T04:29:48.784283Z",
     "start_time": "2021-10-26T04:29:48.780497Z"
    }
   },
   "outputs": [],
   "source": [
    "one_year = data[data.Date < '1855-04-01']\n",
    "second_year = data[data.Date >= '1855-04-01']"
   ]
  },
  {
   "cell_type": "code",
   "execution_count": null,
   "metadata": {
    "ExecuteTime": {
     "end_time": "2021-10-26T04:29:49.382340Z",
     "start_time": "2021-10-26T04:29:48.785738Z"
    }
   },
   "outputs": [],
   "source": [
    "plt.figure(figsize=(20,10));\n",
    "\n",
    "fig, (ax1, ax2) = plt.subplots(1,2);\n",
    "one_year.plot.bar(x='Date', y=['Disease', 'Wounds', 'Other'], ax=ax1);\n",
    "ax1.set_title(r'\\textbf{Mortality data from the Crimean war}');\n",
    "ax1.set_ylabel(r'Mortality');\n",
    "\n",
    "second_year.plot.bar(x='Date', y=['Disease', 'Wounds', 'Other'], ax=ax2);\n",
    "ax2.set_title(r'\\textbf{Mortality data from the Crimean war}');\n",
    "ax2.set_ylabel(r'Mortality');"
   ]
  },
  {
   "cell_type": "markdown",
   "metadata": {},
   "source": [
    "Let us now convert the bar-chart above to polar coordinates."
   ]
  },
  {
   "cell_type": "code",
   "execution_count": null,
   "metadata": {
    "ExecuteTime": {
     "end_time": "2021-10-26T07:21:32.600996Z",
     "start_time": "2021-10-26T07:21:30.103585Z"
    },
    "scrolled": false
   },
   "outputs": [],
   "source": [
    "def plot_polar(ax, data, color):\n",
    "    N=data.shape[0]                           # the number of arc-segments\n",
    "\n",
    "    width=2*np.pi/N                           # width of each arc/bar\n",
    "    x = np.linspace(np.pi , \n",
    "                    -np.pi , \n",
    "                    N, \n",
    "                    endpoint=False)           # the location of each bar\n",
    "    \n",
    "    # First, let us plot the soldiers dying from disease,\n",
    "    # since this is the larger proportion.\n",
    "    ax.bar(\n",
    "        x,\n",
    "       20*np.sqrt(data.Disease.values),\n",
    "        width=width,\n",
    "        color=\"lightblue\",\n",
    "        edgecolor=\"black\",\n",
    "        linewidth=0.5,\n",
    "        alpha=0.5,\n",
    "        label='Disease',\n",
    "        \n",
    "    );\n",
    "   \n",
    "    ax.patch.set_facecolor(color)              # set the background color to Florence's \n",
    "    ax.set_xticklabels([])                     # removing xticks\n",
    "    ax.set_yticklabels([])                     # removing yticks\n",
    "    ax.grid(color='grey', axis='y', alpha=0.1) # grid lines in very light grey\n",
    "\n",
    "    #  Florence puts the month names over the radial-arcs. Let us\n",
    "    #  try to imitate that.\n",
    "    angles = np.linspace(90, -270, \n",
    "                         N, \n",
    "                         endpoint=False)\n",
    "    arcs = ax.patches\n",
    "    for arc, month, angle in zip (arcs, data.Month, angles):\n",
    "        height = arc.get_height()\n",
    "        t = ax.text(\n",
    "            #arc.get_x() + arc.get_width() / 2, max(data.Disease.mean()+25, height + 25), month,\n",
    "            arc.get_x() + arc.get_width() / 2, max(10*np.sqrt(data.Disease.mean())+10, height+35), month.upper(),\n",
    "            ha=\"center\",\n",
    "            va=\"bottom\",\n",
    "            rotation=angle,\n",
    "            rotation_mode=\"anchor\", fontsize=10)\n",
    "        \n",
    "    # Finally, let us plot the soldiers dying from battle wounds\n",
    "    # as an overlay.\n",
    "    ax.bar(\n",
    "        x,\n",
    "        20*np.sqrt(data.Wounds.values),\n",
    "        width=width,\n",
    "        color=\"salmon\",\n",
    "        edgecolor=\"black\",\n",
    "        linewidth=0.5,\n",
    "        alpha=0.5,\n",
    "        label='Wounds'\n",
    "        \n",
    "    );\n",
    "    ax.bar(\n",
    "        x,\n",
    "        20*np.sqrt(data.Other.values),\n",
    "        width=width,\n",
    "        color=\"grey\",\n",
    "        edgecolor=\"black\",\n",
    "        linewidth=0.5,\n",
    "        alpha=0.5,\n",
    "        label='Other'\n",
    "        \n",
    "    );\n",
    "    \n",
    "    \n",
    "    # For clarity, let us add legends to the graph.\n",
    "    prop={\"size\":12}                  # font size: 12\n",
    "    ax.legend(loc=(0.9, 0.9),frameon=False, prop=prop)\n",
    "\n",
    "#----------------------------------------------------------\n",
    "rc ('text', usetex=False)\n",
    "color='#FDEDEC'  # the closest match I could find to the color in the image.\n",
    "size = (20,10)\n",
    "fig = plt.figure(figsize=size)\n",
    "fig.patch.set_facecolor(color)        # background color to the whole figure\n",
    "\n",
    "# Since the left plot is about half the width of the right plot,\n",
    "# we need to use the grid\n",
    "ax1 = plt.subplot2grid(shape=(1,3), loc=(0,0), colspan=1, projection='polar')\n",
    "ax2 = plt.subplot2grid(shape=(1,3), loc=(0,1), colspan=2, projection='polar')\n",
    "\n",
    "# Plot the two roses\n",
    "plot_polar(ax1, second_year, color)\n",
    "plot_polar(ax2, one_year, color)\n",
    "\n",
    "# Nightingale's text, abreviated, title and sub-titles\n",
    "text =\\\n",
    "'''The areas of the blue, red & black wedges are each measured from\n",
    "   the center as the common vertex. \n",
    "The blue wedges measured from the centre of the circle represent area\n",
    "   for the deaths from Preventible or Mitigable Zymotic diseases, the red \n",
    "   wedges measured from the center, the death from wounds, & the \n",
    "   black wedges measured from the center the deaths from all other causes.\n",
    "The black line across the red triangle in Nov 1854 marks the boundary\n",
    "   of the deaths from all other causes during the month.\n",
    "In October 1854, & April 1855, the black area coincides with the red,\n",
    "   in January & February 1856, the blue coincides with the black.\n",
    "The entire areas may be compared by following the blue, the red & the\n",
    "   black lines enclosing them.'''\n",
    "\n",
    "\n",
    "props = dict(boxstyle='round', facecolor=color, alpha=0.5)\n",
    "font = {'fontname':'Blackadder ITC'}\n",
    "titlefont={'fontname':'Old English Text MT'}\n",
    "ax1.text(0.05,-0.7, text, transform=ax1.transAxes, fontsize=14,\n",
    "        verticalalignment='bottom', bbox=props, fontname='Blackadder ITC') # fontname='Satisfy-Regular')\n",
    "\n",
    "title =\\\n",
    "'''DIAGRAM OF THE CAUSES OF MORTALITY\n",
    "         IN THE ARMY IN THE EAST'''\n",
    "left =\\\n",
    "'''        2.\n",
    "APRIL 1855 TO MARCH 1856\n",
    "'''\n",
    "right=\\\n",
    "'''        1.\n",
    "APRIL 1854 TO MARCH 1855'''\n",
    "ax1.set_title(left, pad=100, fontsize=16,)\n",
    "ax2.set_title(right, fontsize=14)\n",
    "plt.suptitle(title, );"
   ]
  },
  {
   "cell_type": "markdown",
   "metadata": {},
   "source": [
    "<img src=\"https://upload.wikimedia.org/wikipedia/commons/thumb/1/17/Nightingale-mortality.jpg/1200px-Nightingale-mortality.jpg\" />"
   ]
  },
  {
   "cell_type": "code",
   "execution_count": null,
   "metadata": {},
   "outputs": [],
   "source": []
  }
 ],
 "metadata": {
  "hide_input": false,
  "kernelspec": {
   "display_name": "Python 3 (ipykernel)",
   "language": "python",
   "name": "python3"
  },
  "language_info": {
   "codemirror_mode": {
    "name": "ipython",
    "version": 3
   },
   "file_extension": ".py",
   "mimetype": "text/x-python",
   "name": "python",
   "nbconvert_exporter": "python",
   "pygments_lexer": "ipython3",
   "version": "3.8.8"
  },
  "toc": {
   "base_numbering": 1,
   "nav_menu": {},
   "number_sections": true,
   "sideBar": true,
   "skip_h1_title": false,
   "title_cell": "Table of Contents",
   "title_sidebar": "Contents",
   "toc_cell": false,
   "toc_position": {
    "height": "calc(100% - 180px)",
    "left": "10px",
    "top": "150px",
    "width": "452.052px"
   },
   "toc_section_display": true,
   "toc_window_display": true
  },
  "varInspector": {
   "cols": {
    "lenName": 16,
    "lenType": 16,
    "lenVar": 40
   },
   "kernels_config": {
    "python": {
     "delete_cmd_postfix": "",
     "delete_cmd_prefix": "del ",
     "library": "var_list.py",
     "varRefreshCmd": "print(var_dic_list())"
    },
    "r": {
     "delete_cmd_postfix": ") ",
     "delete_cmd_prefix": "rm(",
     "library": "var_list.r",
     "varRefreshCmd": "cat(var_dic_list()) "
    }
   },
   "types_to_exclude": [
    "module",
    "function",
    "builtin_function_or_method",
    "instance",
    "_Feature"
   ],
   "window_display": false
  }
 },
 "nbformat": 4,
 "nbformat_minor": 4
}
