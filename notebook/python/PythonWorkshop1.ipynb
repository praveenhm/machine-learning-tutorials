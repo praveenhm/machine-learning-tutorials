{
 "cells": [
  {
   "cell_type": "markdown",
   "metadata": {},
   "source": [
    "# Variables"
   ]
  },
  {
   "cell_type": "code",
   "execution_count": 1,
   "metadata": {
    "ExecuteTime": {
     "end_time": "2021-09-27T22:29:09.689633Z",
     "start_time": "2021-09-27T22:29:09.685278Z"
    }
   },
   "outputs": [],
   "source": [
    "x = 5\n",
    "x: int = 5   # type hinting.\n",
    "y = 7\n",
    "z = True\n",
    "\n",
    "if x> 4 and y > 6:\n",
    "    print (\" big numbers!\")\n",
    "    \n",
    "\n",
    "\n",
    "x = 'potatoes'\n",
    "print (x)\n"
   ]
  },
  {
   "cell_type": "markdown",
   "metadata": {},
   "source": [
    "# Conversions"
   ]
  },
  {
   "cell_type": "code",
   "execution_count": 2,
   "metadata": {
    "ExecuteTime": {
     "end_time": "2021-09-27T22:29:09.777417Z",
     "start_time": "2021-09-27T22:29:09.729261Z"
    }
   },
   "outputs": [
    {
     "ename": "ValueError",
     "evalue": "could not convert string to float: '125.4apples'",
     "output_type": "error",
     "traceback": [
      "\u001b[0;31m---------------------------------------------------------------------------\u001b[0m",
      "\u001b[0;31mValueError\u001b[0m                                Traceback (most recent call last)",
      "\u001b[0;32m<ipython-input-2-73f0cd64ef4c>\u001b[0m in \u001b[0;36m<module>\u001b[0;34m\u001b[0m\n\u001b[1;32m      4\u001b[0m \u001b[0;31m# print  (xx_int)\u001b[0m\u001b[0;34m\u001b[0m\u001b[0;34m\u001b[0m\u001b[0;34m\u001b[0m\u001b[0m\n\u001b[1;32m      5\u001b[0m \u001b[0myy\u001b[0m \u001b[0;34m=\u001b[0m \u001b[0mint\u001b[0m\u001b[0;34m(\u001b[0m\u001b[0;34m\"126\"\u001b[0m\u001b[0;34m)\u001b[0m\u001b[0;34m\u001b[0m\u001b[0;34m\u001b[0m\u001b[0m\n\u001b[0;32m----> 6\u001b[0;31m \u001b[0mzz\u001b[0m \u001b[0;34m=\u001b[0m \u001b[0mfloat\u001b[0m\u001b[0;34m(\u001b[0m\u001b[0;34m\"125.4apples\"\u001b[0m\u001b[0;34m)\u001b[0m\u001b[0;34m\u001b[0m\u001b[0;34m\u001b[0m\u001b[0m\n\u001b[0m\u001b[1;32m      7\u001b[0m \u001b[0;34m\u001b[0m\u001b[0m\n\u001b[1;32m      8\u001b[0m \u001b[0mprint\u001b[0m \u001b[0;34m(\u001b[0m\u001b[0;34m\" xx: {}\\n yy: {}\\n zz: {}\"\u001b[0m\u001b[0;34m.\u001b[0m\u001b[0mformat\u001b[0m\u001b[0;34m(\u001b[0m\u001b[0mxx\u001b[0m\u001b[0;34m,\u001b[0m \u001b[0myy\u001b[0m\u001b[0;34m,\u001b[0m \u001b[0mzz\u001b[0m\u001b[0;34m)\u001b[0m\u001b[0;34m)\u001b[0m\u001b[0;34m\u001b[0m\u001b[0;34m\u001b[0m\u001b[0m\n",
      "\u001b[0;31mValueError\u001b[0m: could not convert string to float: '125.4apples'"
     ]
    }
   ],
   "source": [
    "x = 'potatoes'\n",
    "xx = str(x)\n",
    "# xx_int = int(x)\n",
    "# print  (xx_int)\n",
    "yy = int(\"126\")\n",
    "zz = float(\"125.4apples\")\n",
    "\n",
    "print (\" xx: {}\\n yy: {}\\n zz: {}\".format(xx, yy, zz))"
   ]
  },
  {
   "cell_type": "code",
   "execution_count": null,
   "metadata": {
    "ExecuteTime": {
     "end_time": "2021-09-27T22:29:09.779143Z",
     "start_time": "2021-09-27T22:29:09.729Z"
    }
   },
   "outputs": [],
   "source": [
    "# List \n",
    "ll = [1, 2, 3, 11, 17, 5]\n",
    "print (f'The list is: {ll}')\n",
    "print (\"Length of the list is {}\".format(len(ll)))  # length of the list\n",
    "ll.reverse()\n",
    "print (\"List reversed now {}\".format(ll))\n",
    "ll.sort()\n",
    "print (\"List Increasing order now {}\".format(ll))\n",
    "ll.sort(reverse=True)\n",
    "print (\"List Decreasing order now {}\".format(ll))\n",
    "\n",
    "# Add an element to the list\n",
    "ll.append(19)\n",
    "print (\"List now after append: {}\".format(ll))\n",
    "\n",
    "# Append all the elements of another list.\n",
    "another = [ 2, 11, 17, 4, 5, 6, 12, 16, 17]\n",
    "ll.extend(another)\n",
    "print (\"List now after extend: {}\".format(ll))\n",
    "\n",
    "# Where is 11 in the list?\n",
    "idx = ll.index(11)\n",
    "print (\"List has 11 at index: {}\".format(idx))\n",
    "\n",
    "# Insert an item at the 4th position\n",
    "ll.insert(3, 42)\n",
    "print (\"List with the 4th-item inserted {}\".format(ll))\n",
    "\n",
    "# Remove 6 from the list\n",
    "ll.remove(6)\n",
    "print (\"List with 6 removed {}\".format(ll))\n",
    "\n",
    "# How many times is 17 present in the list?\n",
    "n = ll.count(17)\n",
    "print (\"List has 17 a total of {} number of times\".format(n))"
   ]
  },
  {
   "cell_type": "code",
   "execution_count": null,
   "metadata": {
    "ExecuteTime": {
     "end_time": "2021-09-27T22:29:09.780199Z",
     "start_time": "2021-09-27T22:29:09.733Z"
    }
   },
   "outputs": [],
   "source": [
    "ll.extend(ll)\n",
    "ll = list(set(ll))\n",
    "ll\n"
   ]
  },
  {
   "cell_type": "code",
   "execution_count": null,
   "metadata": {
    "ExecuteTime": {
     "end_time": "2021-09-27T22:29:09.780940Z",
     "start_time": "2021-09-27T22:29:09.736Z"
    }
   },
   "outputs": [],
   "source": [
    "a = [1,2,3]\n",
    "b = [55, 65, 75]\n",
    "\n",
    "# Add only those values from b which do not already exist in a.\n",
    "x = [ a.append(value) for value in b if b not in a ]\n",
    "a"
   ]
  },
  {
   "cell_type": "code",
   "execution_count": null,
   "metadata": {
    "ExecuteTime": {
     "end_time": "2021-09-27T22:29:09.781777Z",
     "start_time": "2021-09-27T22:29:09.738Z"
    }
   },
   "outputs": [],
   "source": [
    "text = \"It was brillig and the mimsy toves\"\n"
   ]
  },
  {
   "cell_type": "markdown",
   "metadata": {},
   "source": [
    "# Guess the Number!!"
   ]
  },
  {
   "cell_type": "markdown",
   "metadata": {},
   "source": [
    "# Using a FOR Loop"
   ]
  },
  {
   "cell_type": "code",
   "execution_count": 3,
   "metadata": {
    "ExecuteTime": {
     "end_time": "2021-09-27T22:38:11.472037Z",
     "start_time": "2021-09-27T22:29:09.940098Z"
    }
   },
   "outputs": [
    {
     "name": "stdout",
     "output_type": "stream",
     "text": [
      "Turn:  1\n",
      "Guess the number(Range 1-1000): 500\n",
      "Guess is too small!\n",
      "You have 9 turns left\n",
      "Turn:  2\n",
      "Guess the number(Range 1-1000): 750\n",
      "Guess is too small!\n",
      "You have 8 turns left\n",
      "Turn:  3\n",
      "Guess the number(Range 1-1000): 875\n",
      "Guess is too small!\n",
      "You have 7 turns left\n",
      "Turn:  4\n",
      "Guess the number(Range 1-1000): 940\n",
      "Guess is too small!\n",
      "You have 6 turns left\n",
      "Turn:  5\n",
      "Guess the number(Range 1-1000): 970\n",
      "Guess is too big!\n",
      "You have 5 turns left\n",
      "Turn:  6\n",
      "Guess the number(Range 1-1000): 950\n",
      "Guess is too big!\n",
      "You have 4 turns left\n",
      "Turn:  7\n",
      "Guess the number(Range 1-1000): 945\n",
      "Guess is too small!\n",
      "You have 3 turns left\n",
      "Turn:  8\n",
      "Guess the number(Range 1-1000): 947\n",
      "Guess is too small!\n",
      "You have 2 turns left\n",
      "Turn:  9\n",
      "Guess the number(Range 1-1000): 948\n",
      "Got it! You won!\n"
     ]
    }
   ],
   "source": [
    "from random import randint\n",
    "\n",
    "x      = randint(1,1001)  # the secret answer\n",
    "solved = False            # flag to say it is not yet solved\n",
    "\n",
    "# Run through at-most 10 attempts by the user\n",
    "for turn in range(10):\n",
    "    \n",
    "    print (\"Turn: \", turn+1)    \n",
    "    guess = int(input(\"Guess the number(Range 1-1000): \"))\n",
    "    \n",
    "    if guess <1 or guess >1000:\n",
    "        print (\"Guess must be in the range of 1-1000\")        \n",
    "    elif guess == x:\n",
    "        print (\"Got it! You won!\")\n",
    "        solved = True\n",
    "        break;       \n",
    "    elif guess > x:\n",
    "        print (\"Guess is too big!\")\n",
    "    else:\n",
    "        print (\"Guess is too small!\")\n",
    "    \n",
    "    # Displays how many turns are left for a user to guess the correct number\n",
    "    if (turn <9): \n",
    "        print (\"You have \" + str(10-(turn+1)) + \" turns left\")\n",
    "\n",
    "# If still not solved, show a failed message\n",
    "if (solved == False): \n",
    "    print (\"All your turns are over! You Lost.\")"
   ]
  },
  {
   "cell_type": "markdown",
   "metadata": {},
   "source": [
    "# Using a WHILE loop"
   ]
  },
  {
   "cell_type": "code",
   "execution_count": 4,
   "metadata": {
    "ExecuteTime": {
     "end_time": "2021-09-27T22:39:24.871122Z",
     "start_time": "2021-09-27T22:38:11.476035Z"
    }
   },
   "outputs": [
    {
     "name": "stdout",
     "output_type": "stream",
     "text": [
      "Turn:  1\n",
      "Guess the number(Range 1-1000): 500\n",
      "Guess is too small!\n",
      "You have 9 turns left\n",
      "Turn:  2\n",
      "Guess the number(Range 1-1000): 750\n",
      "Guess is too small!\n",
      "You have 8 turns left\n",
      "Turn:  3\n",
      "Guess the number(Range 1-1000): 948\n",
      "Guess is too big!\n",
      "You have 7 turns left\n",
      "Turn:  4\n",
      "Guess the number(Range 1-1000): 875\n",
      "Guess is too small!\n",
      "You have 6 turns left\n",
      "Turn:  5\n",
      "Guess the number(Range 1-1000): 825\n",
      "Guess is too small!\n",
      "You have 5 turns left\n",
      "Turn:  6\n",
      "Guess the number(Range 1-1000): 836\n",
      "Guess is too small!\n",
      "You have 4 turns left\n",
      "Turn:  7\n",
      "Guess the number(Range 1-1000): dssd\n"
     ]
    },
    {
     "ename": "ValueError",
     "evalue": "invalid literal for int() with base 10: 'dssd'",
     "output_type": "error",
     "traceback": [
      "\u001b[0;31m---------------------------------------------------------------------------\u001b[0m",
      "\u001b[0;31mValueError\u001b[0m                                Traceback (most recent call last)",
      "\u001b[0;32m<ipython-input-4-abc64d1628ee>\u001b[0m in \u001b[0;36m<module>\u001b[0;34m\u001b[0m\n\u001b[1;32m      9\u001b[0m \u001b[0;34m\u001b[0m\u001b[0m\n\u001b[1;32m     10\u001b[0m     \u001b[0mprint\u001b[0m \u001b[0;34m(\u001b[0m\u001b[0;34m\"Turn: \"\u001b[0m\u001b[0;34m,\u001b[0m \u001b[0mturn\u001b[0m\u001b[0;34m+\u001b[0m\u001b[0;36m1\u001b[0m\u001b[0;34m)\u001b[0m\u001b[0;34m\u001b[0m\u001b[0;34m\u001b[0m\u001b[0m\n\u001b[0;32m---> 11\u001b[0;31m     \u001b[0mguess\u001b[0m \u001b[0;34m=\u001b[0m \u001b[0mint\u001b[0m\u001b[0;34m(\u001b[0m\u001b[0minput\u001b[0m\u001b[0;34m(\u001b[0m\u001b[0;34m\"Guess the number(Range 1-1000): \"\u001b[0m\u001b[0;34m)\u001b[0m\u001b[0;34m)\u001b[0m\u001b[0;34m\u001b[0m\u001b[0;34m\u001b[0m\u001b[0m\n\u001b[0m\u001b[1;32m     12\u001b[0m \u001b[0;34m\u001b[0m\u001b[0m\n\u001b[1;32m     13\u001b[0m     \u001b[0;32mif\u001b[0m \u001b[0mguess\u001b[0m \u001b[0;34m<\u001b[0m\u001b[0;36m1\u001b[0m \u001b[0;32mor\u001b[0m \u001b[0mguess\u001b[0m \u001b[0;34m>\u001b[0m\u001b[0;36m1000\u001b[0m\u001b[0;34m:\u001b[0m\u001b[0;34m\u001b[0m\u001b[0;34m\u001b[0m\u001b[0m\n",
      "\u001b[0;31mValueError\u001b[0m: invalid literal for int() with base 10: 'dssd'"
     ]
    }
   ],
   "source": [
    "from random import randint\n",
    "\n",
    "x      = randint(1,1001)  # the secret answer\n",
    "solved = False            # flag to say it is not yet solved\n",
    "\n",
    "# Run through at-most 10 attempts by the user\n",
    "turn = 0\n",
    "while turn < 10:\n",
    "    \n",
    "    print (\"Turn: \", turn+1)\n",
    "    guess = int(input(\"Guess the number(Range 1-1000): \"))\n",
    "    \n",
    "    if guess <1 or guess >1000:\n",
    "        print (\"Guess must be in the range of 1-1000\")        \n",
    "    elif guess == x:\n",
    "        print (\"Got it! You won!\")\n",
    "        solved = True\n",
    "        break;       \n",
    "    elif guess > x:\n",
    "        print (\"Guess is too big!\")\n",
    "    else:\n",
    "        print (\"Guess is too small!\")\n",
    "    \n",
    "    # Displays how many turns are left for a user to guess the correct number\n",
    "    if (turn <9): \n",
    "        print (\"You have \" + str(10-(turn+1)) + \" turns left\")\n",
    "    turn = turn+1\n",
    "\n",
    "# If still not solved, show a failed message\n",
    "if (solved == False): \n",
    "    print (\"All your turns are over! You Lost.\")"
   ]
  },
  {
   "cell_type": "markdown",
   "metadata": {},
   "source": [
    "# Counting number of lines in a .txt file"
   ]
  },
  {
   "cell_type": "code",
   "execution_count": 5,
   "metadata": {
    "ExecuteTime": {
     "end_time": "2021-09-27T22:39:34.441886Z",
     "start_time": "2021-09-27T22:39:34.420064Z"
    }
   },
   "outputs": [
    {
     "name": "stdout",
     "output_type": "stream",
     "text": [
      "Number of lines:  3029\n"
     ]
    }
   ],
   "source": [
    "text = open(\"Sonnets.txt\")              # open the text file named sonnets.txt\n",
    "line_count = 0                          # initialize a counter\n",
    "\n",
    "for line in text:\n",
    "    line_count = line_count+1           # increment the counter\n",
    "       \n",
    "print(\"Number of lines: \", line_count)  # print the final number of lines"
   ]
  },
  {
   "cell_type": "markdown",
   "metadata": {},
   "source": [
    "# Counting number of words in a .txt file\n",
    "Here we show the use of a double-for loop."
   ]
  },
  {
   "cell_type": "code",
   "execution_count": 6,
   "metadata": {
    "ExecuteTime": {
     "end_time": "2021-09-27T22:39:36.255582Z",
     "start_time": "2021-09-27T22:39:36.243376Z"
    }
   },
   "outputs": [
    {
     "name": "stdout",
     "output_type": "stream",
     "text": [
      "Number of words: 20701\n"
     ]
    }
   ],
   "source": [
    "\n",
    "text = open(\"Sonnets.txt\")\n",
    "\n",
    "all_words = []\n",
    "\n",
    "for line in text:\n",
    "    words = line.lower().split()  # a very primitive way to get words\n",
    "    for word in words:\n",
    "        all_words.append(word)\n",
    "        \n",
    "num_words = len(all_words)\n",
    "print(\"Number of words: {}\".format(num_words))"
   ]
  },
  {
   "cell_type": "code",
   "execution_count": 28,
   "metadata": {
    "ExecuteTime": {
     "end_time": "2021-09-27T22:46:27.803697Z",
     "start_time": "2021-09-27T22:46:27.792597Z"
    }
   },
   "outputs": [
    {
     "name": "stdout",
     "output_type": "stream",
     "text": [
      "Number of words: 20701\n"
     ]
    }
   ],
   "source": [
    "# What if we appends the words directly?\n",
    "text = open(\"Sonnets.txt\")\n",
    "\n",
    "all_words = []\n",
    "\n",
    "for line in text:\n",
    "    words = line.lower().split()  # a very primitive way to get words\n",
    "    all_words.extend(words)\n",
    "        \n",
    "num_words = len(all_words)\n",
    "print(\"Number of words: {}\".format(num_words))"
   ]
  },
  {
   "cell_type": "markdown",
   "metadata": {},
   "source": [
    "# Printing all the words in a file\n",
    "\n",
    "Instead of the double-for loop, we instead use the .extend () method of the list, which can add all the elements of another list to this one."
   ]
  },
  {
   "cell_type": "code",
   "execution_count": 8,
   "metadata": {
    "ExecuteTime": {
     "end_time": "2021-09-27T22:39:36.748218Z",
     "start_time": "2021-09-27T22:39:36.727837Z"
    }
   },
   "outputs": [
    {
     "name": "stdout",
     "output_type": "stream",
     "text": [
      "Number of words: 119749\n"
     ]
    }
   ],
   "source": [
    "# What if we appends the words directly? It does not work, since it goes character by character!\n",
    "text = open(\"Sonnets.txt\")\n",
    "\n",
    "all_words = []\n",
    "\n",
    "for line in text:\n",
    "    for word in line:\n",
    "        all_words.append(word)\n",
    "        \n",
    "num_words = len(all_words)\n",
    "print(\"Number of words: {}\".format(num_words))"
   ]
  },
  {
   "cell_type": "code",
   "execution_count": 9,
   "metadata": {
    "ExecuteTime": {
     "end_time": "2021-09-27T22:39:36.887594Z",
     "start_time": "2021-09-27T22:39:36.873325Z"
    }
   },
   "outputs": [
    {
     "name": "stdout",
     "output_type": "stream",
     "text": [
      "The first few words\n",
      " ['\"defects,\"', '\"information', '\"plain', '\"plain', '\"project', '\"project', '\"project', '\"project', '\"project', '\"right', '#1041]', '$5,000)', \"''tis\", \"'amen'\", \"'as-is',\", \"'fair,\", \"'fair,\", \"'fore\", \"'gainst\", \"'gainst\", \"'gainst\", \"'gainst\", \"'gainst\", \"'gainst\", \"'greeing,\", \"'had\", \"'hues'\", \"'i\", \"'i\", \"'i\", \"'love,'\", \"'no'\", \"'not\", \"'now\", \"'scap'd\", \"'since\", \"'this\", \"'this\", \"'thou\", \"'thus\", \"'thy\", \"'tis\", \"'tis\", \"'tis\", \"'tis\", \"'tis\", \"'tis\", \"'tis\", \"'tis\", \"'tis\", \"'tis\", \"'tis\", \"'truth\", \"'truth\", \"'twixt\", \"'twixt\", \"'will'\", \"'will'\", \"'will'\", \"'will',\", \"'will',\", \"'will,'\", \"'will,'\", \"'will,'\", \"'will.'\", \"'will.'\", '(\"the', '($1', '(801)', '(a)', '(and', '(any', '(b)', '(c)', '(does', '(if', '(or', '(or', '(or', '(though', '(trademark/copyright)', '(www.gutenberg.org),', '***', '***', '***', '***', '***', '***', '*****', '*****', '-', '-', '-', '-', '-', '-', '-', '1.', '1.a.', '1.b.']\n"
     ]
    }
   ],
   "source": [
    "text = open(\"Sonnets.txt\")\n",
    "all_words = []\n",
    "for line in text:\n",
    "    words = line.lower().split()\n",
    "    all_words.extend(words)\n",
    "all_words.sort()\n",
    "print(\"The first few words\\n {}\".format(all_words[:100]))"
   ]
  },
  {
   "cell_type": "code",
   "execution_count": 10,
   "metadata": {
    "ExecuteTime": {
     "end_time": "2021-09-27T22:39:37.051441Z",
     "start_time": "2021-09-27T22:39:37.039994Z"
    }
   },
   "outputs": [
    {
     "data": {
      "text/plain": [
       "20701"
      ]
     },
     "execution_count": 10,
     "metadata": {},
     "output_type": "execute_result"
    }
   ],
   "source": [
    "len(all_words)"
   ]
  },
  {
   "cell_type": "code",
   "execution_count": 11,
   "metadata": {
    "ExecuteTime": {
     "end_time": "2021-09-27T22:39:37.186260Z",
     "start_time": "2021-09-27T22:39:37.181428Z"
    }
   },
   "outputs": [
    {
     "data": {
      "text/plain": [
       "['\"defects,\"',\n",
       " '\"information',\n",
       " '\"plain',\n",
       " '\"plain',\n",
       " '\"project',\n",
       " '\"project',\n",
       " '\"project',\n",
       " '\"project',\n",
       " '\"project',\n",
       " '\"right']"
      ]
     },
     "execution_count": 11,
     "metadata": {},
     "output_type": "execute_result"
    }
   ],
   "source": [
    "all_words[0:10]"
   ]
  },
  {
   "cell_type": "code",
   "execution_count": 12,
   "metadata": {
    "ExecuteTime": {
     "end_time": "2021-09-27T22:39:37.351008Z",
     "start_time": "2021-09-27T22:39:37.345350Z"
    }
   },
   "outputs": [
    {
     "data": {
      "text/plain": [
       "['\"defects,\"', '\"project', '\"project']"
      ]
     },
     "execution_count": 12,
     "metadata": {},
     "output_type": "execute_result"
    }
   ],
   "source": [
    "all_words[0:10:4]"
   ]
  },
  {
   "cell_type": "code",
   "execution_count": 13,
   "metadata": {
    "ExecuteTime": {
     "end_time": "2021-09-27T22:39:37.499487Z",
     "start_time": "2021-09-27T22:39:37.496050Z"
    }
   },
   "outputs": [
    {
     "data": {
      "text/plain": [
       "['youth,', 'youthful', 'youthful', 'zealous']"
      ]
     },
     "execution_count": 13,
     "metadata": {},
     "output_type": "execute_result"
    }
   ],
   "source": [
    "all_words[-5:-1]"
   ]
  },
  {
   "cell_type": "markdown",
   "metadata": {},
   "source": [
    "# Finding the unique words, in a sorted order (alphabetical order)"
   ]
  },
  {
   "cell_type": "code",
   "execution_count": 14,
   "metadata": {
    "ExecuteTime": {
     "end_time": "2021-09-27T22:39:37.818045Z",
     "start_time": "2021-09-27T22:39:37.803810Z"
    }
   },
   "outputs": [
    {
     "name": "stdout",
     "output_type": "stream",
     "text": [
      "There are 5262 unique words found.\n",
      "The first few unique words:\n",
      " ['\"defects,\"', '\"information', '\"plain', '\"project', '\"right', '#1041]', '$5,000)', \"''tis\", \"'amen'\", \"'as-is',\", \"'fair,\", \"'fore\", \"'gainst\", \"'greeing,\", \"'had\", \"'hues'\", \"'i\", \"'love,'\", \"'no'\", \"'not\", \"'now\", \"'scap'd\", \"'since\", \"'this\", \"'thou\", \"'thus\", \"'thy\", \"'tis\", \"'truth\", \"'twixt\", \"'will'\", \"'will',\", \"'will,'\", \"'will.'\", '(\"the', '($1', '(801)', '(a)', '(and', '(any', '(b)', '(c)', '(does', '(if', '(or', '(though', '(trademark/copyright)', '(www.gutenberg.org),', '***', '*****', '-', '1.', '1.a.', '1.b.', '1.c', '1.c.', '1.d.', '1.e', '1.e.', '1.e.1', '1.e.1.', '1.e.2.', '1.e.3.', '1.e.4.', '1.e.5.', '1.e.6.', '1.e.7', '1.e.7.', '1.e.8', '1.e.8.', '1.e.9.', '1.f.', '1.f.1.', '1.f.2.', '1.f.3,', '1.f.3.', '1.f.4.', '1.f.5.', '1.f.6.', '10,', '1041.txt', '1041.zip', '1500', '1997', '2.', '20%', '2001,', '2010', '2014', '3', '3.', '30', '4', '4,', '4.', '4557', '5.', '50', '501(c)(3)', '596-1887.']\n"
     ]
    }
   ],
   "source": [
    "text = open(\"Sonnets.txt\")\n",
    "all_words = []\n",
    "for line in text:\n",
    "    words = line.lower().split()\n",
    "    all_words.extend(words)\n",
    "# Notice how we use set to create unique words list\n",
    "unique_words = sorted(set (all_words))\n",
    "uw_count = len(unique_words)\n",
    "\n",
    "# Now output it.\n",
    "print(f\"There are {uw_count} unique words found.\")\n",
    "as_list = list (unique_words)\n",
    "print(f\"The first few unique words:\\n {as_list[:100]}\")"
   ]
  },
  {
   "cell_type": "markdown",
   "metadata": {},
   "source": [
    "# Counting frequency of words and printing top 10 most frequent words"
   ]
  },
  {
   "cell_type": "code",
   "execution_count": 15,
   "metadata": {
    "ExecuteTime": {
     "end_time": "2021-09-27T22:39:38.163226Z",
     "start_time": "2021-09-27T22:39:38.142344Z"
    }
   },
   "outputs": [
    {
     "name": "stdout",
     "output_type": "stream",
     "text": [
      "[('the', 608), ('and', 556), ('of', 487), ('to', 485), ('in', 376), ('my', 371), ('that', 332), ('i', 327), ('thy', 280), ('with', 228)]\n"
     ]
    }
   ],
   "source": [
    "\n",
    "#\n",
    "# Read the words and sort them!\n",
    "# \n",
    "text = open(\"Sonnets.txt\")\n",
    "all_words = []\n",
    "for line in text:\n",
    "    words = line.lower().split()\n",
    "    all_words.extend(words)\n",
    "all_words.sort()\n",
    "\n",
    "#\n",
    "#  Suppose frequencies dictionary does not have the word 'abacus':\n",
    "#  then add it to the dictionary, with key = 'abacus', value=1\n",
    "#  if the word, say, 'heart' already exists in the dict, and you encounter it again,\n",
    "#  then increment its value!\n",
    "#\n",
    "frequencies = {}\n",
    "\n",
    "for word in all_words:\n",
    "    if word in frequencies:\n",
    "        frequencies[word] += 1\n",
    "    else: \n",
    "        frequencies[word] = 1\n",
    "\n",
    "counts = frequencies.items()\n",
    "\n",
    "# an example of kv would be ['heart', 10]\n",
    "sorted_pairs = sorted (counts, key=lambda kv: kv[1], reverse=True)\n",
    "print(sorted_pairs[0:10])"
   ]
  },
  {
   "cell_type": "code",
   "execution_count": 16,
   "metadata": {
    "ExecuteTime": {
     "end_time": "2021-09-27T22:39:38.313213Z",
     "start_time": "2021-09-27T22:39:38.309211Z"
    }
   },
   "outputs": [
    {
     "data": {
      "text/plain": [
       "31"
      ]
     },
     "execution_count": 16,
     "metadata": {},
     "output_type": "execute_result"
    }
   ],
   "source": [
    "# How often the word 'heart was used?'\n",
    "frequencies['heart']"
   ]
  },
  {
   "cell_type": "code",
   "execution_count": 17,
   "metadata": {
    "ExecuteTime": {
     "end_time": "2021-09-27T22:39:38.460194Z",
     "start_time": "2021-09-27T22:39:38.456234Z"
    }
   },
   "outputs": [
    {
     "data": {
      "text/plain": [
       "109"
      ]
     },
     "execution_count": 17,
     "metadata": {},
     "output_type": "execute_result"
    }
   ],
   "source": [
    "frequencies['love']"
   ]
  },
  {
   "cell_type": "markdown",
   "metadata": {},
   "source": [
    "# An alternate method to find word frequency"
   ]
  },
  {
   "cell_type": "code",
   "execution_count": 18,
   "metadata": {
    "ExecuteTime": {
     "end_time": "2021-09-27T22:39:38.812181Z",
     "start_time": "2021-09-27T22:39:38.793689Z"
    }
   },
   "outputs": [
    {
     "name": "stdout",
     "output_type": "stream",
     "text": [
      "[('the', 608), ('and', 556), ('of', 487), ('to', 485), ('in', 376), ('my', 371), ('that', 332), ('i', 327), ('thy', 280), ('with', 228)]\n"
     ]
    }
   ],
   "source": [
    "# Finding word frequency using Counter \n",
    "text = open(\"Sonnets.txt\")\n",
    "all_words = []\n",
    "for line in text:\n",
    "    words = line.lower().split()\n",
    "    all_words.extend(words)\n",
    "all_words.sort()\n",
    "\n",
    "from collections import Counter\n",
    "counts = Counter(all_words)\n",
    "print(counts.most_common(10))"
   ]
  },
  {
   "cell_type": "markdown",
   "metadata": {},
   "source": [
    "## Classes and objects"
   ]
  },
  {
   "cell_type": "code",
   "execution_count": 32,
   "metadata": {
    "ExecuteTime": {
     "end_time": "2021-09-27T22:54:21.066681Z",
     "start_time": "2021-09-27T22:54:21.050297Z"
    }
   },
   "outputs": [
    {
     "name": "stdout",
     "output_type": "stream",
     "text": [
      "Mean is 2.5\n",
      "Std is 1.118033988749895\n",
      "Mean (μ): 2.5\n",
      "Std  (σ): 1.118033988749895\n",
      "Min     : 1\n",
      "Max     : 4\n",
      "Median  : 2.5\n"
     ]
    }
   ],
   "source": [
    "# importing the libraries\n",
    "import numpy.random as nr\n",
    "import pandas as pd\n",
    "\n",
    "# defining functions to get mean, standard deviation, min, max, median\n",
    "class DescriptiveStatistics:\n",
    "    \n",
    "    def __init__ (self, numbers):\n",
    "        ''' Constructor that takes a list of numbers'''\n",
    "        self.numbers = numbers\n",
    "    \n",
    "    def mean (self): ds.summarize()\n",
    "        '''The average of the numbers in the list'''\n",
    "        sum = 0\n",
    "        n   = len(self.numbers)\n",
    "        for number in self.numbers:\n",
    "            sum += number\n",
    "            \n",
    "        self.μ = sum/n\n",
    "        return self.μ\n",
    "    \n",
    "    def std(self):\n",
    "        '''Find the standard deviation'''\n",
    "        deltas = 0\n",
    "        μ = self.mean()\n",
    "        for number in self.numbers:\n",
    "            deltas += (number - μ)**2\n",
    "        n = len(self.numbers)\n",
    "        σ = (deltas/n)**(0.5)\n",
    "        return σ\n",
    "    \n",
    "    def min(self):\n",
    "        '''Find the min'''\n",
    "        return min(self.numbers)\n",
    "    \n",
    "    def max(self):\n",
    "        return max(self.numbers)\n",
    "    \n",
    "    def median(self):\n",
    "        n = len(self.numbers)\n",
    "        n = int(n/2)        \n",
    "        self.numbers.sort()\n",
    "        \n",
    "        if n%2 == 0:\n",
    "            return (self.numbers[n-1] + self.numbers[n])/2\n",
    "        else:\n",
    "            return self.numbers[n-1]\n",
    " \n",
    "    def summarize(self):\n",
    "        '''Create a simple summary of the data'''\n",
    "        μ   = self.mean()\n",
    "        σ  = self.std()\n",
    "        mn   = self.min()\n",
    "        mx   = self.max()\n",
    "        md = self.median() \n",
    "        print (f'Mean (μ): {μ}')\n",
    "        print (f'Std  (σ): {σ}') \n",
    "        print (f'Min     : {mn}')\n",
    "        print (f'Max     : {mx}')\n",
    "        print (f'Median  : {md}')\n",
    "\n",
    "    \n",
    "if __name__ == \"__main__\":\n",
    "    x = [1,2,3,4]\n",
    "    ds = DescriptiveStatistics(x)\n",
    "    μ = ds.mean()\n",
    "    σ = ds.std()\n",
    "    print (\"Mean is {}\".format(μ))\n",
    "    print (\"Std is {}\".format(σ))\n",
    "   "
   ]
  },
  {
   "cell_type": "markdown",
   "metadata": {},
   "source": [
    " We can also ask the object to summarize itself."
   ]
  },
  {
   "cell_type": "code",
   "execution_count": 33,
   "metadata": {
    "ExecuteTime": {
     "end_time": "2021-09-27T22:55:01.062657Z",
     "start_time": "2021-09-27T22:55:01.058584Z"
    }
   },
   "outputs": [
    {
     "name": "stdout",
     "output_type": "stream",
     "text": [
      "Mean (μ): 2.5\n",
      "Std  (σ): 1.118033988749895\n",
      "Min     : 1\n",
      "Max     : 4\n",
      "Median  : 2.5\n"
     ]
    }
   ],
   "source": [
    " ds.summarize()"
   ]
  },
  {
   "cell_type": "markdown",
   "metadata": {},
   "source": [
    "# Do descriptive statistics for 1-dim data\n",
    "\n",
    "Let us now use our DescriptiveStatistics class to summarize some datasets.\n",
    "\n",
    "The data-files are:\n",
    "    * normal.txt\n",
    "    * lognormal.txt\n",
    "    * beta.txt\n",
    "    * gamma.txt\n",
    "    * poisson.txt"
   ]
  },
  {
   "cell_type": "code",
   "execution_count": 23,
   "metadata": {
    "ExecuteTime": {
     "end_time": "2021-09-27T22:39:48.661236Z",
     "start_time": "2021-09-27T22:39:48.574082Z"
    }
   },
   "outputs": [
    {
     "name": "stdout",
     "output_type": "stream",
     "text": [
      "10000\n",
      "Statistics coming from our simple python class for dataset: normal\n",
      "Mean: 4.05956468238222\n",
      "Std : 6.976621704360776\n",
      "Min : -22.745352049794565\n",
      "Max : 31.437346657214565\n",
      "Median : 4.0177332937019985\n",
      "Statistics from Pandas dataframe.describe() for this dataset\n",
      "                  x\n",
      "count  10000.000000\n",
      "mean       4.059565\n",
      "std        6.976971\n",
      "min      -22.745352\n",
      "25%       -0.672681\n",
      "50%        4.017733\n",
      "75%        8.861807\n",
      "max       31.437347\n",
      "------------------------------------------------------------------------------------------------------------------------\n",
      "10000\n",
      "Statistics coming from our simple python class for dataset: lognormal\n",
      "Mean: 1.9116784677476164\n",
      "Std : 1.6152150717559268\n",
      "Min : 0.08406652250951391\n",
      "Max : 38.593767835017424\n",
      "Median : 1.479593035848105\n",
      "Statistics from Pandas dataframe.describe() for this dataset\n",
      "                  x\n",
      "count  10000.000000\n",
      "mean       1.911678\n",
      "std        1.615296\n",
      "min        0.084067\n",
      "25%        0.920601\n",
      "50%        1.479593\n",
      "75%        2.383760\n",
      "max       38.593768\n",
      "------------------------------------------------------------------------------------------------------------------------\n",
      "10000\n",
      "Statistics coming from our simple python class for dataset: beta\n",
      "Mean: 0.499384860582893\n",
      "Std : 0.22330173949366608\n",
      "Min : 0.006654475531802679\n",
      "Max : 0.9948012545713752\n",
      "Median : 0.4978711925157934\n",
      "Statistics from Pandas dataframe.describe() for this dataset\n",
      "                  x\n",
      "count  10000.000000\n",
      "mean       0.499385\n",
      "std        0.223313\n",
      "min        0.006654\n",
      "25%        0.329187\n",
      "50%        0.497871\n",
      "75%        0.673886\n",
      "max        0.994801\n",
      "------------------------------------------------------------------------------------------------------------------------\n",
      "10000\n",
      "Statistics coming from our simple python class for dataset: poisson\n",
      "Mean: 2.011\n",
      "Std : 1.409212191261492\n",
      "Min : 0\n",
      "Max : 10\n",
      "Median : 2.0\n",
      "Statistics from Pandas dataframe.describe() for this dataset\n",
      "                  x\n",
      "count  10000.000000\n",
      "mean       2.011000\n",
      "std        1.409283\n",
      "min        0.000000\n",
      "25%        1.000000\n",
      "50%        2.000000\n",
      "75%        3.000000\n",
      "max       10.000000\n",
      "------------------------------------------------------------------------------------------------------------------------\n",
      "10000\n",
      "Statistics coming from our simple python class for dataset: gamma\n",
      "Mean: 7.973244720139291\n",
      "Std : 5.6336248406549\n",
      "Min : 0.03870692156561949\n",
      "Max : 51.86841707394408\n",
      "Median : 6.693237775671394\n",
      "Statistics from Pandas dataframe.describe() for this dataset\n",
      "                  x\n",
      "count  10000.000000\n",
      "mean       7.973245\n",
      "std        5.633907\n",
      "min        0.038707\n",
      "25%        3.887613\n",
      "50%        6.693238\n",
      "75%       10.717524\n",
      "max       51.868417\n",
      "------------------------------------------------------------------------------------------------------------------------\n"
     ]
    }
   ],
   "source": [
    "datasets = [\"normal\", \"lognormal\", \"beta\", \"poisson\", \"gamma\"]\n",
    "\n",
    "for dataset in datasets:\n",
    "    filename = \"{}.txt\".format(dataset)\n",
    "    data = pd.read_csv(filename)\n",
    "    data.columns = ['x']\n",
    "    data.describe()\n",
    "    t = list(data.x)\n",
    "    print(len(t))\n",
    "\n",
    "    # applying descriptive statistics\n",
    "    ds = DescriptiveStatistics(t)\n",
    "    print (\"Statistics coming from our simple python class for dataset: {}\".format(dataset))\n",
    "    \n",
    "    ds.summarize()\n",
    "    \n",
    "    print (\"Statistics from Pandas dataframe.describe() for this dataset\")\n",
    "    print (data.describe())\n",
    "    print (\"------\"*20)"
   ]
  },
  {
   "cell_type": "markdown",
   "metadata": {},
   "source": [
    "# Histograms of all the datasets as a subplot"
   ]
  },
  {
   "cell_type": "code",
   "execution_count": 24,
   "metadata": {
    "ExecuteTime": {
     "end_time": "2021-09-27T22:39:54.408280Z",
     "start_time": "2021-09-27T22:39:48.769539Z"
    }
   },
   "outputs": [
    {
     "data": {
      "image/png": "[encoded data removed]",
      "text/plain": [
       "<Figure size 1440x1080 with 5 Axes>"
      ]
     },
     "metadata": {},
     "output_type": "display_data"
    }
   ],
   "source": [
    "fig = plt.figure()\n",
    "fig.suptitle(r'\\textbf{Various distribution datasets}', size=32)\n",
    "plt.subplots_adjust(hspace=0.4,  # vertical spacing between subplots\n",
    "                    wspace=.3)   # horizontal spacing between subplots\n",
    "#\n",
    "# Loop through the datasets from 2 to 5, and plot each\n",
    "datasets = [\"normal\", \"lognormal\", \"beta\", \"poisson\", \"gamma\"]\n",
    "fIndex=1\n",
    "for dataset in datasets:\n",
    "    filename = \"{}.txt\".format(dataset)\n",
    "    data = pd.read_csv(filename)\n",
    "    data.columns = ['x']\n",
    "    ax1    = fig.add_subplot(3,2,fIndex)\n",
    "    ax1.set_title(r'histogram of $x$ in dataset: {}'.format(dataset))\n",
    "    ax1.set_xlabel(r'$x$-feature')\n",
    "    ax1.set_ylabel(r'frequency')\n",
    "    ax1.hist(data.x, bins=100)\n",
    "    ax1.margins = (10,10)\n",
    "    fIndex +=1\n",
    "\n",
    "# Finally, show the whole plot    \n",
    "plt.show()\n"
   ]
  },
  {
   "cell_type": "code",
   "execution_count": 25,
   "metadata": {
    "ExecuteTime": {
     "end_time": "2021-09-27T22:39:54.525115Z",
     "start_time": "2021-09-27T22:39:54.520818Z"
    }
   },
   "outputs": [
    {
     "data": {
      "text/plain": [
       "'There are 40 mangoes in the box'"
      ]
     },
     "execution_count": 25,
     "metadata": {},
     "output_type": "execute_result"
    }
   ],
   "source": [
    "i = 40\n",
    "str = \"There are {} mangoes in the box\".format(i)\n",
    "str"
   ]
  },
  {
   "cell_type": "code",
   "execution_count": 27,
   "metadata": {
    "ExecuteTime": {
     "end_time": "2021-09-27T22:40:35.722290Z",
     "start_time": "2021-09-27T22:40:35.717805Z"
    }
   },
   "outputs": [
    {
     "data": {
      "text/plain": [
       "'There are 40 mangoes in the box'"
      ]
     },
     "execution_count": 27,
     "metadata": {},
     "output_type": "execute_result"
    }
   ],
   "source": [
    "str2 = f'There are {i} mangoes in the box'\n",
    "str2"
   ]
  },
  {
   "cell_type": "code",
   "execution_count": null,
   "metadata": {},
   "outputs": [],
   "source": []
  },
  {
   "cell_type": "code",
   "execution_count": null,
   "metadata": {},
   "outputs": [],
   "source": []
  }
 ],
 "metadata": {
  "hide_input": false,
  "kernelspec": {
   "display_name": "Python 3 (ipykernel)",
   "language": "python",
   "name": "python3"
  },
  "language_info": {
   "codemirror_mode": {
    "name": "ipython",
    "version": 3
   },
   "file_extension": ".py",
   "mimetype": "text/x-python",
   "name": "python",
   "nbconvert_exporter": "python",
   "pygments_lexer": "ipython3",
   "version": "3.8.8"
  },
  "latex_envs": {
   "LaTeX_envs_menu_present": true,
   "autoclose": true,
   "autocomplete": true,
   "bibliofile": "biblio.bib",
   "cite_by": "apalike",
   "current_citInitial": 1,
   "eqLabelWithNumbers": true,
   "eqNumInitial": 1,
   "hotkeys": {
    "equation": "Ctrl-E",
    "itemize": "Ctrl-I"
   },
   "labels_anchors": false,
   "latex_user_defs": false,
   "report_style_numbering": true,
   "user_envs_cfg": true
  },
  "toc": {
   "base_numbering": 1,
   "nav_menu": {},
   "number_sections": true,
   "sideBar": true,
   "skip_h1_title": false,
   "title_cell": "Table of Contents",
   "title_sidebar": "Contents",
   "toc_cell": false,
   "toc_position": {},
   "toc_section_display": true,
   "toc_window_display": false
  },
  "varInspector": {
   "cols": {
    "lenName": 16,
    "lenType": 16,
    "lenVar": 40
   },
   "kernels_config": {
    "python": {
     "delete_cmd_postfix": "",
     "delete_cmd_prefix": "del ",
     "library": "var_list.py",
     "varRefreshCmd": "print(var_dic_list())"
    },
    "r": {
     "delete_cmd_postfix": ") ",
     "delete_cmd_prefix": "rm(",
     "library": "var_list.r",
     "varRefreshCmd": "cat(var_dic_list()) "
    }
   },
   "types_to_exclude": [
    "module",
    "function",
    "builtin_function_or_method",
    "instance",
    "_Feature"
   ],
   "window_display": false
  }
 },
 "nbformat": 4,
 "nbformat_minor": 2
}
